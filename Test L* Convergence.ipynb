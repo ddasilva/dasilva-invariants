{
 "cells": [
  {
   "cell_type": "code",
   "execution_count": null,
   "id": "127d7f4d",
   "metadata": {},
   "outputs": [],
   "source": [
    "import importlib\n",
    "from dasilva_invariants import meshes, invariants\n",
    "importlib.reload(meshes)\n",
    "importlib.reload(invariants)"
   ]
  },
  {
   "cell_type": "code",
   "execution_count": null,
   "id": "a169a617",
   "metadata": {},
   "outputs": [],
   "source": [
    "mesh = meshes.get_dipole_mesh_on_lfm_grid('../lfm_data/hdf4/March2015_mhd_2015-03-17T04-30-00Z.hdf',\n",
    "                                         ystretch=0.5)"
   ]
  },
  {
   "cell_type": "code",
   "execution_count": null,
   "id": "c6532f2f",
   "metadata": {},
   "outputs": [],
   "source": [
    "import pylab as plt\n",
    "import numpy as np\n",
    "%matplotlib inline"
   ]
  },
  {
   "cell_type": "code",
   "execution_count": null,
   "id": "ed72266b",
   "metadata": {},
   "outputs": [],
   "source": [
    "importlib.reload(invariants)\n",
    "\n",
    "rs = np.linspace(3, 10, 100)\n",
    "Ks = np.zeros_like(rs)\n",
    "\n",
    "for i, r in enumerate(rs):\n",
    "    x, y = np.cos(np.deg2rad(1)) * r, np.sin(np.deg2rad(1)) * r\n",
    "    Ks[i] = invariants.calculate_K(mesh, (x, y, 0), 7.5, step_size=1e-4).K\n",
    "    \n",
    "plt.plot(rs, Ks, '.-')\n",
    "plt.title('K vs L-Shell on LFM Grid', fontsize=20)\n",
    "plt.xlabel('L-Shell', fontsize=15)\n",
    "plt.ylabel('K(L)', fontsize=15)"
   ]
  },
  {
   "cell_type": "code",
   "execution_count": null,
   "id": "81e6b561",
   "metadata": {},
   "outputs": [],
   "source": [
    "r = 3\n",
    "th = 1\n",
    "x, y = np.cos(np.deg2rad(th)) * r, np.sin(np.deg2rad(th)) * r\n",
    "\n",
    "result = invariants.calculate_LStar(mesh, (x, y, 0), 7.5, num_local_times=20,\n",
    "                                    rel_error_threshold=0.01, trace_step_size=1e-4, verbose=True)"
   ]
  },
  {
   "cell_type": "code",
   "execution_count": null,
   "id": "6bbd03b3",
   "metadata": {},
   "outputs": [],
   "source": [
    "result"
   ]
  },
  {
   "cell_type": "code",
   "execution_count": null,
   "id": "51b493c2",
   "metadata": {},
   "outputs": [],
   "source": [
    "localtimes = np.rad2deg(result.drift_local_times) * 24 / 360 + 12\n",
    "localtimes %= 24\n",
    "\n",
    "I = np.argsort(localtimes)\n",
    "\n",
    "plt.figure()\n",
    "plt.plot(localtimes[I], result.drift_lvalues[I], '.-')\n",
    "plt.xlabel('Local time')\n",
    "plt.ylabel('L-Shell')\n",
    "\n",
    "plt.figure()\n",
    "plt.plot(localtimes[I], result.drift_K[I], '.-')\n",
    "plt.xlabel('Local time')\n",
    "plt.ylabel('K')"
   ]
  },
  {
   "cell_type": "code",
   "execution_count": null,
   "id": "4c70d0ff",
   "metadata": {},
   "outputs": [],
   "source": []
  }
 ],
 "metadata": {
  "kernelspec": {
   "display_name": "Python 3 (ipykernel)",
   "language": "python",
   "name": "python3"
  },
  "language_info": {
   "codemirror_mode": {
    "name": "ipython",
    "version": 3
   },
   "file_extension": ".py",
   "mimetype": "text/x-python",
   "name": "python",
   "nbconvert_exporter": "python",
   "pygments_lexer": "ipython3",
   "version": "3.10.0"
  }
 },
 "nbformat": 4,
 "nbformat_minor": 5
}
