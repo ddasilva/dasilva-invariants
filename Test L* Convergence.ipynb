{
 "cells": [
  {
   "cell_type": "code",
   "execution_count": null,
   "metadata": {},
   "outputs": [],
   "source": [
    "import importlib\n",
    "from dasilva_invariants import meshes, invariants\n",
    "importlib.reload(meshes)\n",
    "importlib.reload(invariants)"
   ]
  },
  {
   "cell_type": "code",
   "execution_count": null,
   "metadata": {},
   "outputs": [],
   "source": [
    "mesh = meshes.get_dipole_mesh_on_lfm_grid('../lfm_data/hdf4/March2015_mhd_2015-03-17T04-30-00Z.hdf',\n",
    "                                         ystretch=0.5)"
   ]
  },
  {
   "cell_type": "code",
   "execution_count": null,
   "metadata": {},
   "outputs": [],
   "source": [
    "import pylab as plt\n",
    "import numpy as np\n",
    "%matplotlib inline"
   ]
  },
  {
   "cell_type": "code",
   "execution_count": null,
   "metadata": {},
   "outputs": [],
   "source": [
    "importlib.reload(invariants)\n",
    "\n",
    "xs = np.linspace(3, 10, 100)\n",
    "Ks = np.zeros_like(xs)\n",
    "\n",
    "for i, x in enumerate(xs):\n",
    "    Ks[i] = invariants.calculate_K(mesh, (x, 0, 0), 7.5).K\n",
    "    \n",
    "plt.plot(xs, Ks, '.-')\n",
    "plt.title('K vs L-Shell on LFM Grid', fontsize=20)\n",
    "plt.xlabel('L-Shell', fontsize=15)\n",
    "plt.ylabel('K(L)', fontsize=15)"
   ]
  },
  {
   "cell_type": "code",
   "execution_count": null,
   "metadata": {},
   "outputs": [],
   "source": [
    "result = invariants.calculate_LStar(mesh, (6, 0, 0), 7.5, num_local_times=200,\n",
    "                                    rel_error_threshold=1e-2, verbose=True)"
   ]
  },
  {
   "cell_type": "code",
   "execution_count": null,
   "metadata": {},
   "outputs": [],
   "source": [
    "result"
   ]
  },
  {
   "cell_type": "code",
   "execution_count": null,
   "metadata": {},
   "outputs": [],
   "source": [
    "localtimes = np.rad2deg(result.drift_local_times) * 24 / 360 + 12\n",
    "localtimes %= 24\n",
    "\n",
    "I = np.argsort(localtimes)\n",
    "\n",
    "plt.plot(localtimes[I], result.drift_lvalues[I], '.-')\n",
    "plt.xlabel('Local time')\n",
    "plt.ylabel('L-Shell')"
   ]
  }
 ],
 "metadata": {
  "kernelspec": {
   "display_name": "dasilvaInvariants",
   "language": "python",
   "name": "dasilvainvariants"
  },
  "language_info": {
   "codemirror_mode": {
    "name": "ipython",
    "version": 3
   },
   "file_extension": ".py",
   "mimetype": "text/x-python",
   "name": "python",
   "nbconvert_exporter": "python",
   "pygments_lexer": "ipython3",
   "version": "3.10.0"
  }
 },
 "nbformat": 4,
 "nbformat_minor": 5
}
