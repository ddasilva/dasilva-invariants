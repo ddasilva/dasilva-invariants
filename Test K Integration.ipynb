{
 "cells": [
  {
   "cell_type": "code",
   "execution_count": null,
   "id": "afb3c8f7",
   "metadata": {},
   "outputs": [],
   "source": [
    "from ai import cs\n",
    "from matplotlib import ticker\n",
    "from matplotlib.colors import LogNorm\n",
    "import numpy as np\n",
    "import pyvista\n",
    "import pylab as plt\n",
    "\n",
    "import importlib\n",
    "from dasilva_invariants import meshes, invariants\n",
    "importlib.reload(meshes)\n",
    "importlib.reload(invariants)"
   ]
  },
  {
   "cell_type": "code",
   "execution_count": null,
   "id": "dae8c882",
   "metadata": {},
   "outputs": [],
   "source": [
    "mesh = meshes.get_dipole_mesh_on_lfm_grid('../lfm_data/hdf4/March2015_mhd_2015-03-17T04-30-00Z.hdf')"
   ]
  },
  {
   "cell_type": "code",
   "execution_count": null,
   "id": "09bb30bd",
   "metadata": {},
   "outputs": [],
   "source": [
    "r = 4\n",
    "th = 1\n",
    "x, y = np.cos(np.deg2rad(th)) * r, np.sin(np.deg2rad(th)) * r\n",
    "\n",
    "\n",
    "result = invariants.calculate_K(mesh, (x, y, 0), 7.5)"
   ]
  },
  {
   "cell_type": "code",
   "execution_count": null,
   "id": "473db47c",
   "metadata": {},
   "outputs": [],
   "source": [
    "mask = result.trace_field_strength < result.Bm\n",
    "\n",
    "plt.figure(figsize=(8, 5))\n",
    "plt.scatter(x=result.trace_points[:, 0],\n",
    "            y=result.trace_points[:, 2],\n",
    "            c=np.log10(result.trace_field_strength))\n",
    "#plt.plot(result.trace_points[mask, 0],\n",
    "#         result.trace_points[mask, 2],\n",
    "#         'rx', markersize=20, label='B < Bm')\n",
    "cb = plt.colorbar()\n",
    "cb.set_label('Log10(B) (Log-Gauss)')\n",
    "plt.xlabel('X (Re)')\n",
    "plt.ylabel('Z (Re)')\n",
    "plt.legend()\n",
    "plt.grid(color='#ccc', linestyle='dashed')\n",
    "plt.title('Field Line Trace')"
   ]
  },
  {
   "cell_type": "code",
   "execution_count": null,
   "id": "1092fad6",
   "metadata": {},
   "outputs": [],
   "source": [
    "plt.figure(figsize=(8, 4))\n",
    "\n",
    "plt.plot(result.integral_axis_latitude, result.integral_integrand, 'k,-')\n",
    "plt.fill_between(result.integral_axis_latitude,\n",
    "                 result.integral_integrand.min(),\n",
    "                 result.integral_integrand)\n",
    "plt.title(f'K = {result.K:.6f} Re Sqrt(G) = ' '$\\int_{s_m}^{s_m\\'}\\sqrt{B_m - B(s)}ds$\\n'\n",
    "          f'Bm = {result.Bm:.6f} G\\n'\n",
    "          f'Mirror at {result.integral_axis_latitude.max():.1f} deg',\n",
    "          fontsize=20)\n",
    "plt.xlabel('Magnetic Latitude (deg)', fontsize=20)\n",
    "plt.ylabel('$\\sqrt{B_m - B(s)}$', fontsize=20)\n",
    "None"
   ]
  },
  {
   "cell_type": "code",
   "execution_count": null,
   "id": "43f39221",
   "metadata": {},
   "outputs": [],
   "source": [
    "rel_position = np.arange(result.trace_latitude.size) / result.trace_latitude.size\n",
    "plt.plot(rel_position, result.trace_field_strength, ',-')\n",
    "plt.yscale('log')\n",
    "plt.xlabel('Relative Position in Trace')\n",
    "plt.ylabel('|B|')"
   ]
  },
  {
   "cell_type": "code",
   "execution_count": null,
   "id": "7a90f195",
   "metadata": {},
   "outputs": [],
   "source": []
  }
 ],
 "metadata": {
  "kernelspec": {
   "display_name": "Python 3 (ipykernel)",
   "language": "python",
   "name": "python3"
  },
  "language_info": {
   "codemirror_mode": {
    "name": "ipython",
    "version": 3
   },
   "file_extension": ".py",
   "mimetype": "text/x-python",
   "name": "python",
   "nbconvert_exporter": "python",
   "pygments_lexer": "ipython3",
   "version": "3.10.0"
  }
 },
 "nbformat": 4,
 "nbformat_minor": 5
}
