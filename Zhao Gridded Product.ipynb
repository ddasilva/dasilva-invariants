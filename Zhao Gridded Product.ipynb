{
 "cells": [
  {
   "cell_type": "code",
   "execution_count": null,
   "id": "a23acd2a-2a23-429d-b3fa-63dd7ceca8a4",
   "metadata": {},
   "outputs": [],
   "source": [
    "from dasilva_invariants import meshes, invariants\n",
    "import glob\n",
    "import numpy as np\n",
    "import pylab as plt\n",
    "import gc\n",
    "import progressbar\n",
    "%matplotlib inline"
   ]
  },
  {
   "cell_type": "code",
   "execution_count": null,
   "id": "8d82c100-6c83-453e-9f08-985448f913b4",
   "metadata": {},
   "outputs": [],
   "source": [
    "files = glob.glob('/glade/u/home/danieldas/scratch/data/Advection/March2015-1s/*mhd*.hdf')\n",
    "files.sort()\n",
    "files = files[::60*5]\n",
    "files[:10]"
   ]
  },
  {
   "cell_type": "code",
   "execution_count": null,
   "id": "7e57eb7a-3977-41da-a161-160948f38aec",
   "metadata": {},
   "outputs": [],
   "source": [
    "local_times = np.arange(0, 360, 15, dtype=float)\n",
    "radii = np.arange(3, 8.5, 0.5, dtype=float)\n",
    "\n",
    "print('Local times', local_times.size)\n",
    "print('Radii', radii.size)"
   ]
  },
  {
   "cell_type": "code",
   "execution_count": null,
   "id": "fbc1477e-10b5-4ae2-a25f-3eeae37954fb",
   "metadata": {},
   "outputs": [],
   "source": [
    "params = []\n",
    "\n",
    "for file in files:\n",
    "    for local_time in local_times:\n",
    "        for radius in radii:\n",
    "            phi = np.deg2rad(local_time)\n",
    "            x = radius * np.cos(phi)\n",
    "            y = radius * np.sin(phi)\n",
    "            params.append((file, local_time, radius, (x, y, 0)))"
   ]
  },
  {
   "cell_type": "code",
   "execution_count": null,
   "id": "fc6015d9-e6d6-49d7-a849-7a25070a5a87",
   "metadata": {
    "tags": []
   },
   "outputs": [],
   "source": [
    "LStar = {}\n",
    "bar = progressbar.ProgressBar()\n",
    "\n",
    "for file, local_time, radius, starting_point in bar(params):\n",
    "    mesh = meshes.get_dipole_mesh_on_lfm_grid(file)\n",
    "\n",
    "    LStar[file, local_time, radius] = invariants.calculate_LStar(mesh, starting_point, 0).LStar\n",
    "\n",
    "    del mesh\n",
    "    gc.collect()"
   ]
  },
  {
   "cell_type": "code",
   "execution_count": null,
   "id": "2fdf2c5d-527c-437d-b537-e28d6bff6958",
   "metadata": {},
   "outputs": [],
   "source": [
    "tstamps = [f.split('T')[1].replace('-', '')[:4] + 'UT' for f in files]\n",
    "tstamps[2:10]"
   ]
  },
  {
   "cell_type": "code",
   "execution_count": null,
   "id": "9e1528c6-28f6-49e6-9449-deeee70d331b",
   "metadata": {},
   "outputs": [],
   "source": [
    "s = ''\n",
    "\n",
    "for f, tstamp in zip(files[2:], tstamps[2:]):\n",
    "    s += tstamp + '\\n'\n",
    "    for local_time in local_times:\n",
    "        for radius in radii:\n",
    "            s += '%.14f' % LStar[f, local_time, radius] + '\\t'\n",
    "        s += '\\n'\n",
    "\n",
    "#print(s)\n",
    "\n",
    "fh = open('zhao_grid.txt', 'w')\n",
    "fh.write(s)\n",
    "fh.close()"
   ]
  },
  {
   "cell_type": "code",
   "execution_count": null,
   "id": "bc40b559-3633-4040-89a7-b0009115998a",
   "metadata": {},
   "outputs": [],
   "source": [
    "from mpl_toolkits.axes_grid1 import make_axes_locatable\n",
    "\n",
    "for f, tstamp in zip(files[2:], tstamps[2:]):\n",
    "    arr = np.zeros((local_times.size, radii.size))\n",
    "    for i, local_time in enumerate(local_times):\n",
    "        for j, radius in enumerate(radii):\n",
    "            arr[i, j] = LStar[f, local_time, radius]\n",
    "\n",
    "    fig, ax = plt.subplots(subplot_kw={'projection': 'polar'})\n",
    "    im = ax.pcolor(np.deg2rad(local_times), radii, arr.T, vmin=2, vmax=10)\n",
    "    ax.set_title(tstamp)\n",
    "    "
   ]
  }
 ],
 "metadata": {
  "kernelspec": {
   "display_name": "Python [conda env:anaconda3-dasilva-invariants]",
   "language": "python",
   "name": "conda-env-anaconda3-dasilva-invariants-py"
  },
  "language_info": {
   "codemirror_mode": {
    "name": "ipython",
    "version": 3
   },
   "file_extension": ".py",
   "mimetype": "text/x-python",
   "name": "python",
   "nbconvert_exporter": "python",
   "pygments_lexer": "ipython3",
   "version": "3.10.4"
  }
 },
 "nbformat": 4,
 "nbformat_minor": 5
}
