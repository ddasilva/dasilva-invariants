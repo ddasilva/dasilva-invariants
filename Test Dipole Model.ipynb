{
 "cells": [
  {
   "cell_type": "code",
   "execution_count": null,
   "id": "a54535d9",
   "metadata": {},
   "outputs": [],
   "source": [
    "import importlib\n",
    "from dasilva_invariants import diagnostics, meshes, invariants\n",
    "importlib.reload(diagnostics)\n",
    "importlib.reload(meshes)\n",
    "importlib.reload(invariants)\n",
    "\n",
    "import pylab as plt\n",
    "import numpy as np\n",
    "%matplotlib inline\n"
   ]
  },
  {
   "cell_type": "code",
   "execution_count": null,
   "id": "c8e1ca09",
   "metadata": {},
   "outputs": [],
   "source": [
    "mesh = meshes.get_dipole_mesh_on_lfm_grid('../data/lfm_data/hdf4/March2015_mhd_2015-03-17T04-30-00Z.hdf')"
   ]
  },
  {
   "cell_type": "code",
   "execution_count": null,
   "id": "48a5bbc6",
   "metadata": {},
   "outputs": [],
   "source": [
    "diagnostics.tail_traces(mesh, 'Dipole')"
   ]
  },
  {
   "cell_type": "code",
   "execution_count": null,
   "id": "9b36b527",
   "metadata": {},
   "outputs": [],
   "source": [
    "diagnostics.tail_K_vs_radius(mesh, 'Dipole')"
   ]
  },
  {
   "cell_type": "code",
   "execution_count": null,
   "id": "c29bce9e",
   "metadata": {},
   "outputs": [],
   "source": [
    "diagnostics.dayside_field_intensities(mesh, 'Dipole')"
   ]
  },
  {
   "cell_type": "code",
   "execution_count": null,
   "id": "f9001342",
   "metadata": {},
   "outputs": [],
   "source": [
    "diagnostics.equitorial_plot_of_intensity(mesh, 'Dipole')"
   ]
  },
  {
   "cell_type": "code",
   "execution_count": null,
   "id": "8c41a830",
   "metadata": {},
   "outputs": [],
   "source": [
    "diagnostics.K_integrand_plot(mesh, 'Dipole')"
   ]
  },
  {
   "cell_type": "code",
   "execution_count": null,
   "id": "3a93354a",
   "metadata": {},
   "outputs": [],
   "source": [
    "diagnostics.drift_shells(mesh, 'Dipole')"
   ]
  }
 ],
 "metadata": {
  "kernelspec": {
   "display_name": "dasilva-invariants",
   "language": "python",
   "name": "dasilva-invariants"
  },
  "language_info": {
   "codemirror_mode": {
    "name": "ipython",
    "version": 3
   },
   "file_extension": ".py",
   "mimetype": "text/x-python",
   "name": "python",
   "nbconvert_exporter": "python",
   "pygments_lexer": "ipython3",
   "version": "3.10.0"
  }
 },
 "nbformat": 4,
 "nbformat_minor": 5
}
