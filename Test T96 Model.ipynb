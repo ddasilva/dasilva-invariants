{
 "cells": [
  {
   "cell_type": "code",
   "execution_count": null,
   "id": "1b144cfc",
   "metadata": {},
   "outputs": [],
   "source": [
    "import importlib\n",
    "from dasilva_invariants import diagnostics, meshes, invariants\n",
    "importlib.reload(diagnostics)\n",
    "importlib.reload(meshes)\n",
    "importlib.reload(invariants)\n",
    "\n",
    "from datetime import datetime\n",
    "import pylab as plt\n",
    "import numpy as np\n",
    "%matplotlib inline"
   ]
  },
  {
   "cell_type": "code",
   "execution_count": null,
   "id": "866503f4",
   "metadata": {},
   "outputs": [],
   "source": [
    "lfm_hdf4_path = '../data/lfm_data/hdf4/March2015_mhd_2015-03-17T04-45-00Z.hdf'\n",
    "mesh = meshes.get_t96_mesh_on_lfm_grid(\n",
    "    dynamic_pressure=1,\n",
    "    Dst=0, \n",
    "    By_imf=0,\n",
    "    Bz_imf=0,\n",
    "    lfm_hdf4_path=lfm_hdf4_path,\n",
    "    time=datetime(2015, 3, 17, 4, 45))"
   ]
  },
  {
   "cell_type": "code",
   "execution_count": null,
   "id": "8a185fb5-e829-4dfb-bdbb-e9d83f078e20",
   "metadata": {},
   "outputs": [],
   "source": [
    "diagnostics.LStar_integrand_plot(mesh, 'T96', LStar_kwargs=dict(num_local_times=120))"
   ]
  },
  {
   "cell_type": "code",
   "execution_count": null,
   "id": "9bfa3013",
   "metadata": {},
   "outputs": [],
   "source": [
    "diagnostics.tail_traces(mesh, 'T96')"
   ]
  },
  {
   "cell_type": "code",
   "execution_count": null,
   "id": "d0d74d48",
   "metadata": {},
   "outputs": [],
   "source": [
    "diagnostics.tail_K_vs_radius(mesh, 'T96')"
   ]
  },
  {
   "cell_type": "code",
   "execution_count": null,
   "id": "08ab1ee6",
   "metadata": {},
   "outputs": [],
   "source": [
    "diagnostics.dayside_field_intensities(mesh, 'T96', r_max=11)"
   ]
  },
  {
   "cell_type": "code",
   "execution_count": null,
   "id": "bb8c75f7",
   "metadata": {},
   "outputs": [],
   "source": [
    "diagnostics.equitorial_plot_of_intensity(mesh, 'T96')"
   ]
  },
  {
   "cell_type": "code",
   "execution_count": null,
   "id": "d3d6674c",
   "metadata": {},
   "outputs": [],
   "source": [
    "diagnostics.K_integrand_plot(mesh, 'T96', th=180)"
   ]
  },
  {
   "cell_type": "code",
   "execution_count": null,
   "id": "8f06ed1a",
   "metadata": {},
   "outputs": [],
   "source": [
    "diagnostics.drift_shells(mesh, 'T96')"
   ]
  }
 ],
 "metadata": {
  "kernelspec": {
   "display_name": "dasilvaInvariants",
   "language": "python",
   "name": "dasilvainvariants"
  },
  "language_info": {
   "codemirror_mode": {
    "name": "ipython",
    "version": 3
   },
   "file_extension": ".py",
   "mimetype": "text/x-python",
   "name": "python",
   "nbconvert_exporter": "python",
   "pygments_lexer": "ipython3",
   "version": "3.10.0"
  }
 },
 "nbformat": 4,
 "nbformat_minor": 5
}
