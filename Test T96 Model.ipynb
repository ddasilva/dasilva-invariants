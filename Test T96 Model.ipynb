{
 "cells": [
  {
   "cell_type": "code",
   "execution_count": null,
   "id": "0405c80a",
   "metadata": {},
   "outputs": [],
   "source": [
    "import importlib\n",
    "import sys\n",
    "\n",
    "sys.path.append('/glade/u/home/danieldas/scratch/phd_stuff/daSilvaInvariants')\n",
    "from dasilva_invariants import diagnostics, meshes, invariants\n",
    "importlib.reload(diagnostics)\n",
    "importlib.reload(meshes)\n",
    "importlib.reload(invariants)\n",
    "\n",
    "from datetime import datetime\n",
    "import pylab as plt\n",
    "import numpy as np\n",
    "%matplotlib inline"
   ]
  },
  {
   "cell_type": "code",
   "execution_count": null,
   "id": "0f4dc6c0",
   "metadata": {},
   "outputs": [],
   "source": [
    "lfm_hdf4_path = '../data/lfm_data/hdf4/March2015_mhd_2015-03-17T04-45-00Z.hdf'\n",
    "mesh = meshes.get_t96_mesh_on_lfm_grid(\n",
    "    dynamic_pressure=1,\n",
    "    Dst=0, \n",
    "    By_imf=7 / np.sqrt(2),\n",
    "    Bz_imf=7 / np.sqrt(2),\n",
    "    lfm_hdf4_path=lfm_hdf4_path,\n",
    "    time=datetime(2015, 3, 17, 4, 45))"
   ]
  },
  {
   "cell_type": "code",
   "execution_count": null,
   "id": "0f70bb69-1d3f-479f-acfa-9c5b114f4586",
   "metadata": {
    "tags": []
   },
   "outputs": [],
   "source": [
    "omni_dynpres, symh, omni_By, omni_Bz =(0.3499771, -23, -4.44, 0.79)\n",
    "time = datetime(2013, 10, 4)\n",
    "lfm_hdf4_path = '/glade/u/home/danieldas/scratch/data/LFM-20131002_RBSP/ElkStorm_mhd_2013-10-04T00-00-00Z.hdf'\n",
    "mesh = meshes.get_t96_mesh_on_lfm_grid(\n",
    "    dynamic_pressure=omni_dynpres,\n",
    "    Dst=symh, \n",
    "    By_imf=omni_By,\n",
    "    Bz_imf=omni_Bz,\n",
    "    lfm_hdf4_path=lfm_hdf4_path,\n",
    "    time=time)"
   ]
  },
  {
   "cell_type": "code",
   "execution_count": null,
   "id": "ccff38d2",
   "metadata": {},
   "outputs": [],
   "source": [
    "diagnostics.LStar_integrand_plot(mesh, 'T96')"
   ]
  },
  {
   "cell_type": "code",
   "execution_count": null,
   "id": "348d28cb",
   "metadata": {},
   "outputs": [],
   "source": [
    "diagnostics.tail_traces(mesh, 'T96')"
   ]
  },
  {
   "cell_type": "code",
   "execution_count": null,
   "id": "64859eb8",
   "metadata": {},
   "outputs": [],
   "source": [
    "diagnostics.tail_K_vs_radius(mesh, 'T96')"
   ]
  },
  {
   "cell_type": "code",
   "execution_count": null,
   "id": "81059163",
   "metadata": {},
   "outputs": [],
   "source": [
    "diagnostics.dayside_field_intensities(mesh, 'T96', r_max=11)"
   ]
  },
  {
   "cell_type": "code",
   "execution_count": null,
   "id": "8215a0b4",
   "metadata": {},
   "outputs": [],
   "source": [
    "diagnostics.equitorial_plot_of_intensity(mesh, 'T96')"
   ]
  },
  {
   "cell_type": "code",
   "execution_count": null,
   "id": "5b4d156d",
   "metadata": {},
   "outputs": [],
   "source": [
    "diagnostics.meridional_plot_of_intensity(mesh, 'T96')"
   ]
  },
  {
   "cell_type": "code",
   "execution_count": null,
   "id": "10033a5e",
   "metadata": {},
   "outputs": [],
   "source": [
    "diagnostics.K_integrand_plot(mesh, 'T96', th=180)"
   ]
  },
  {
   "cell_type": "code",
   "execution_count": null,
   "id": "be0d8eea",
   "metadata": {},
   "outputs": [],
   "source": [
    "diagnostics.drift_shells(mesh, 'T96')"
   ]
  },
  {
   "cell_type": "code",
   "execution_count": null,
   "id": "667ad7e5",
   "metadata": {},
   "outputs": [],
   "source": []
  }
 ],
 "metadata": {
  "kernelspec": {
   "display_name": "Python [conda env:anaconda3-dasilva-invariants]",
   "language": "python",
   "name": "conda-env-anaconda3-dasilva-invariants-py"
  },
  "language_info": {
   "codemirror_mode": {
    "name": "ipython",
    "version": 3
   },
   "file_extension": ".py",
   "mimetype": "text/x-python",
   "name": "python",
   "nbconvert_exporter": "python",
   "pygments_lexer": "ipython3",
   "version": "3.10.4"
  }
 },
 "nbformat": 4,
 "nbformat_minor": 5
}
