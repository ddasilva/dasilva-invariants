{
 "cells": [
  {
   "cell_type": "code",
   "execution_count": null,
   "metadata": {},
   "outputs": [],
   "source": [
    "import importlib\n",
    "from dasilva_invariants import meshes, invariants\n",
    "importlib.reload(meshes)\n",
    "importlib.reload(invariants)\n",
    "\n",
    "import pylab as plt\n",
    "import numpy as np\n",
    "%matplotlib inline\n",
    "\n",
    "mesh = meshes.get_lfm_hdf4_data('../lfm_data/hdf4/March2015_mhd_2015-03-17T04-45-00Z.hdf')"
   ]
  },
  {
   "cell_type": "code",
   "execution_count": null,
   "metadata": {},
   "outputs": [],
   "source": [
    "r = 6\n",
    "th = 1\n",
    "x, y = np.cos(np.deg2rad(th)) * r, np.sin(np.deg2rad(th)) * r\n",
    "\n",
    "result = invariants.calculate_K(mesh, (x, y, 0), 7.5, step_size=None)"
   ]
  },
  {
   "cell_type": "code",
   "execution_count": null,
   "metadata": {},
   "outputs": [],
   "source": [
    "mask = result.trace_field_strength < result.Bm\n",
    "\n",
    "plt.figure(figsize=(8, 5))\n",
    "plt.scatter(x=result.trace_points[:, 0],\n",
    "            y=result.trace_points[:, 2],\n",
    "            c=np.log10(result.trace_field_strength))\n",
    "#plt.plot(result.trace_points[mask, 0],\n",
    "#         result.trace_points[mask, 2],\n",
    "#         'rx', markersize=20, label='B < Bm')\n",
    "cb = plt.colorbar()\n",
    "cb.set_label('Log10(B) (Log-Gauss)')\n",
    "plt.xlabel('X (Re)')\n",
    "plt.ylabel('Z (Re)')\n",
    "plt.legend()\n",
    "plt.grid(color='#ccc', linestyle='dashed')\n",
    "plt.title('Field Line Trace')"
   ]
  },
  {
   "cell_type": "code",
   "execution_count": null,
   "metadata": {},
   "outputs": [],
   "source": [
    "plt.figure(figsize=(8, 4))\n",
    "\n",
    "plt.plot(result.integral_axis_latitude, result.integral_integrand, 'k,-')\n",
    "plt.fill_between(result.integral_axis_latitude,\n",
    "                 result.integral_integrand.min(),\n",
    "                 result.integral_integrand)\n",
    "plt.title(f'K = {result.K:.6f} Re Sqrt(G) = ' '$\\int_{s_m}^{s_m\\'}\\sqrt{B_m - B(s)}ds$\\n'\n",
    "          f'Bm = {result.Bm:.6f} G\\n'\n",
    "          f'Mirror at {result.integral_axis_latitude.max():.1f} deg',\n",
    "          fontsize=20)\n",
    "plt.xlabel('Magnetic Latitude (deg)', fontsize=20)\n",
    "plt.ylabel('$\\sqrt{B_m - B(s)}$', fontsize=20)\n",
    "None"
   ]
  },
  {
   "cell_type": "code",
   "execution_count": null,
   "metadata": {},
   "outputs": [],
   "source": [
    "plt.figure(figsize=(10, 7), dpi=300)\n",
    "rs = np.arange(3, 8)\n",
    "th = 0\n",
    "cmap = plt.get_cmap('viridis')\n",
    "\n",
    "for i, r in enumerate(rs):\n",
    "    x, y = np.cos(np.deg2rad(th)) * r, np.sin(np.deg2rad(th)) * r\n",
    "    result = invariants.calculate_K(mesh, (r, 0, 0), 7.5, step_size=None)\n",
    "    rel_position = np.arange(result.trace_latitude.size) /  result.trace_latitude.size\n",
    "    \n",
    "    plt.plot(rel_position, result.trace_field_strength, ',-', label=f'r={r}', color=cmap(i/rs.size))\n",
    "    plt.xlabel('Relative Position in Trace')\n",
    "    \n",
    "plt.ylabel('|B| (Gauss)')\n",
    "plt.title(f'Trace from (x,y,z)=(r,0,0) with Bm at 7.5 deg')\n",
    "plt.yscale('log')\n",
    "plt.legend(ncol=1, loc='center left', bbox_to_anchor=(1, 0.5))\n",
    "plt.grid(color='#ccc', linestyle='dashed')"
   ]
  },
  {
   "cell_type": "code",
   "execution_count": null,
   "metadata": {},
   "outputs": [],
   "source": [
    "importlib.reload(invariants)\n",
    "\n",
    "rs = np.linspace(3, 6, 100)\n",
    "Ks = np.zeros_like(rs)\n",
    "\n",
    "for i, r in enumerate(rs):\n",
    "    x, y = np.cos(np.deg2rad(10)) * r, np.sin(np.deg2rad(10)) * r\n",
    "    Ks[i] = invariants.calculate_K(mesh, (x, y, 0), 7.5).K\n",
    "    \n",
    "plt.plot(rs, Ks, '.-')\n",
    "plt.title('K vs L-Shell on LFM Grid', fontsize=20)\n",
    "plt.xlabel('L-Shell', fontsize=15)\n",
    "plt.ylabel('K(L)', fontsize=15)"
   ]
  },
  {
   "cell_type": "code",
   "execution_count": null,
   "metadata": {},
   "outputs": [],
   "source": [
    "r = 3\n",
    "th = 1\n",
    "x, y = np.cos(np.deg2rad(th)) * r, np.sin(np.deg2rad(th)) * r\n",
    "\n",
    "result = invariants.calculate_LStar(mesh, (x, y, 0), 7.5, num_local_times=20,\n",
    "                                    rel_error_threshold=0.01, verbose=True)"
   ]
  },
  {
   "cell_type": "code",
   "execution_count": null,
   "metadata": {},
   "outputs": [],
   "source": [
    "localtimes = np.rad2deg(result.drift_local_times) * 24 / 360 + 12\n",
    "localtimes %= 24\n",
    "\n",
    "I = np.argsort(localtimes)\n",
    "\n",
    "plt.figure()\n",
    "plt.plot(localtimes[I], result.drift_lvalues[I], '.-')\n",
    "plt.xlabel('Local time')\n",
    "plt.ylabel('L-Shell')\n",
    "\n",
    "plt.figure()\n",
    "plt.plot(localtimes[I], result.drift_K[I], '.-')\n",
    "plt.xlabel('Local time')\n",
    "plt.ylabel('K')"
   ]
  },
  {
   "cell_type": "code",
   "execution_count": null,
   "metadata": {
    "tags": []
   },
   "outputs": [],
   "source": [
    "import glob\n",
    "files = glob.glob('../lfm_data/hdf4/*.hdf')[:10]\n",
    "\n",
    "results = []\n",
    "for file in files:\n",
    "    result = None\n",
    "    mesh = meshes.get_lfm_hdf4_data(file)\n",
    "    try:\n",
    "        result = invariants.calculate_LStar(mesh, (4, 0, 0), 7.5, num_local_times=30,\n",
    "                                        rel_error_threshold=0.03, verbose=True)\n",
    "        if result:\n",
    "            results.append((file, result))\n",
    "    except RuntimeError:\n",
    "        pass"
   ]
  },
  {
   "cell_type": "code",
   "execution_count": null,
   "metadata": {},
   "outputs": [],
   "source": [
    "plt.figure(figsize=(12, 8))\n",
    "#plt.gca().set_facecolor('#ccc')\n",
    "plt.xlabel('Local time')\n",
    "plt.ylabel('L-Shell')\n",
    "\n",
    "cmap = plt.get_cmap('viridis')\n",
    "\n",
    "for i, (file, result) in enumerate(results):\n",
    "    localtimes = np.rad2deg(result.drift_local_times) * 24 / 360 + 12\n",
    "    localtimes %= 24\n",
    "    I = np.argsort(localtimes)\n",
    "    plt.plot(localtimes[I], result.drift_lvalues[I], '.-', label=file.split('/')[-1], color=cmap(i/len(results)))\n",
    "\n",
    "plt.legend(ncol=1, loc='center left', bbox_to_anchor=(1, 0.5))\n",
    "plt.grid()"
   ]
  },
  {
   "cell_type": "code",
   "execution_count": null,
   "metadata": {},
   "outputs": [],
   "source": [
    "plt.figure(figsize=(8, 8))\n",
    "\n",
    "cmap = plt.get_cmap('viridis')\n",
    "\n",
    "for i, (file, result) in enumerate(results):\n",
    "    x = np.cos(result.drift_local_times) * result.drift_lvalues\n",
    "    y = np.sin(result.drift_local_times) * result.drift_lvalues\n",
    "    \n",
    "    x = x.tolist() + [x[0]]\n",
    "    y = y.tolist() + [y[0]]\n",
    "    \n",
    "    plt.plot(x, y, color=cmap(i/len(results)), label=file.split('/')[-1])\n",
    "\n",
    "plt.legend(ncol=1, loc='center left', bbox_to_anchor=(1, 0.5))\n",
    "#plt.yscale('symlog')\n",
    "#plt.xscale('symlog')\n",
    "plt.grid()"
   ]
  },
  {
   "cell_type": "code",
   "execution_count": null,
   "metadata": {},
   "outputs": [],
   "source": [
    "plt.plot(results[0][1].drift_local_times, results[0][1].drift_lvalues)"
   ]
  },
  {
   "cell_type": "code",
   "execution_count": null,
   "metadata": {},
   "outputs": [],
   "source": [
    "import h5py\n",
    "hdf = h5py.File('rbspa_def_MagEphem_OP77Q_20150317_v3.0.0.h5')\n",
    "hdf.keys()"
   ]
  },
  {
   "cell_type": "code",
   "execution_count": null,
   "metadata": {},
   "outputs": [],
   "source": [
    "import dateutil.parser\n",
    "iso_time = np.array([dateutil.parser.parse(t) for t in hdf['IsoTime'][:]])\n",
    "Rsm = hdf['Rsm'][:]\n",
    "dst = hdf['Dst'][:]\n",
    "iso_time"
   ]
  },
  {
   "cell_type": "code",
   "execution_count": null,
   "metadata": {},
   "outputs": [],
   "source": []
  },
  {
   "cell_type": "code",
   "execution_count": null,
   "metadata": {},
   "outputs": [],
   "source": [
    "import glob\n",
    "files = glob.glob('../lfm_data/hdf4/*.hdf')\n",
    "\n",
    "def coerce_string(f):\n",
    "    return f.split('_')[-1][:-4].replace('-', ':').replace(':', '-', 2)\n",
    "\n",
    "file_times = np.array([dateutil.parser.parse(coerce_string(f)) for f in files])\n",
    "#mesh = meshes.get_lfm_hdf4_data('../lfm_data/hdf4/March2015_mhd_2015-03-17T04-45-00Z.hdf')\n",
    "file_times[:3]"
   ]
  },
  {
   "cell_type": "code",
   "execution_count": null,
   "metadata": {},
   "outputs": [],
   "source": [
    "import progressbar\n",
    "Ks = []\n",
    "\n",
    "bar = progressbar.ProgressBar()\n",
    "rs = []\n",
    "\n",
    "for file, file_time in bar(list(zip(files, file_times))):\n",
    "    x, y, z = Rsm[iso_time.searchsorted(file_time)]\n",
    "    r = np.sqrt(x**2 + y**2 + z**2)\n",
    "    \n",
    "    rs.append(r)\n",
    "    \n",
    "    if r < 3:\n",
    "        Ks.append(np.nan)\n",
    "        continue\n",
    "        \n",
    "    mesh = meshes.get_lfm_hdf4_data(file)\n",
    "    try:\n",
    "        result = invariants.calculate_K(mesh, (x, y, z), 7.5, step_size=None)\n",
    "    except:\n",
    "        raise RuntimeError((x, y, z, r))\n",
    "    Ks.append(result.K)"
   ]
  },
  {
   "cell_type": "code",
   "execution_count": null,
   "metadata": {},
   "outputs": [],
   "source": [
    "tmp = file_times[~np.isnan(Ks)]\n",
    "fig, axes = plt.subplots(3, 1, sharex=True, figsize=(6, 9))\n",
    "axes[0].plot(file_times, np.array(Ks)*1000, 'o-')\n",
    "axes[0].set_ylabel('K (milli-ReSqrt(G))')\n",
    "axes[1].plot(file_times, rs, 'ro-')\n",
    "axes[1].set_ylabel('RSBSP A Radius (Re)')\n",
    "axes[1].set_xlim(tmp[0], tmp[-1])\n",
    "axes[2].plot(iso_time, dst, 'ko-')\n",
    "axes[2].set_ylim([0, 50])\n",
    "axes[2].set_ylabel('Dst')\n",
    "\n",
    "for ax in axes:\n",
    "    ax.grid(color='#ccc', linestyle='dashed')"
   ]
  }
 ],
 "metadata": {
  "kernelspec": {
   "display_name": "Python 3 (ipykernel)",
   "language": "python",
   "name": "python3"
  },
  "language_info": {
   "codemirror_mode": {
    "name": "ipython",
    "version": 3
   },
   "file_extension": ".py",
   "mimetype": "text/x-python",
   "name": "python",
   "nbconvert_exporter": "python",
   "pygments_lexer": "ipython3",
   "version": "3.10.0"
  }
 },
 "nbformat": 4,
 "nbformat_minor": 4
}
