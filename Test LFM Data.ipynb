{
 "cells": [
  {
   "cell_type": "code",
   "execution_count": null,
   "metadata": {},
   "outputs": [],
   "source": [
    "import importlib\n",
    "from dasilva_invariants import diagnostics, meshes, invariants\n",
    "importlib.reload(diagnostics)\n",
    "importlib.reload(meshes)\n",
    "importlib.reload(invariants)"
   ]
  },
  {
   "cell_type": "code",
   "execution_count": null,
   "metadata": {},
   "outputs": [],
   "source": [
    "mesh = meshes.get_lfm_hdf4_data('../lfm_data/hdf4/March2015_mhd_2015-03-17T04-45-00Z.hdf')"
   ]
  },
  {
   "cell_type": "code",
   "execution_count": null,
   "metadata": {},
   "outputs": [],
   "source": [
    "diagnostics.tail_traces(mesh, 'LFM')"
   ]
  },
  {
   "cell_type": "code",
   "execution_count": null,
   "metadata": {},
   "outputs": [],
   "source": [
    "diagnostics.tail_K_vs_radius(mesh, 'LFM')"
   ]
  },
  {
   "cell_type": "code",
   "execution_count": null,
   "metadata": {},
   "outputs": [],
   "source": [
    "diagnostics.drift_shells(mesh, 'LFM')"
   ]
  },
  {
   "cell_type": "code",
   "execution_count": null,
   "metadata": {},
   "outputs": [],
   "source": [
    "diagnostics.dayside_field_intensities(mesh, 'LFM')"
   ]
  },
  {
   "cell_type": "code",
   "execution_count": null,
   "metadata": {},
   "outputs": [],
   "source": [
    "diagnostics.equitorial_plot_of_intensity(mesh, 'LFM')"
   ]
  },
  {
   "cell_type": "code",
   "execution_count": null,
   "metadata": {},
   "outputs": [],
   "source": [
    "import numpy as np, pylab as plt\n",
    "r = 7\n",
    "th = 180\n",
    "x, y = np.cos(np.deg2rad(th)) * r, np.sin(np.deg2rad(th)) * r\n",
    "result = invariants.calculate_K(mesh, (x, y, 0), 7.5)\n",
    "\n",
    "x, y = np.cos(np.deg2rad(th)) * r, np.sin(np.deg2rad(th)) * r\n",
    "result = invariants.calculate_K(mesh, (x, y, 0), 7.5)\n",
    "\n",
    "plt.figure(figsize=(8, 4))\n",
    "\n",
    "plt.plot(result.integral_axis_latitude, result.integral_integrand, 'k,-')\n",
    "plt.fill_between(result.integral_axis_latitude,\n",
    "                 result.integral_integrand.min(),\n",
    "                 result.integral_integrand)\n",
    "plt.title(f'K = {result.K:.6f} Re Sqrt(G) = ' '$\\int_{s_m}^{s_m\\'}\\sqrt{B_m - B(s)}ds$\\n'\n",
    "          f'Bm = {result.Bm:.6f} G\\n'\n",
    "          f'Mirror at {result.integral_axis_latitude.max():.1f} deg',\n",
    "          fontsize=20)\n",
    "plt.xlabel('Latitude (deg)', fontsize=20)\n",
    "plt.ylabel('$\\sqrt{B_m - B(s)}$', fontsize=20)\n",
    "None"
   ]
  },
  {
   "cell_type": "code",
   "execution_count": null,
   "metadata": {
    "tags": []
   },
   "outputs": [],
   "source": [
    "import glob\n",
    "files = glob.glob('../lfm_data/hdf4/*.hdf')[:10]\n",
    "\n",
    "results = []\n",
    "for file in files:\n",
    "    result = None\n",
    "    mesh = meshes.get_lfm_hdf4_data(file)\n",
    "    try:\n",
    "        result = invariants.calculate_LStar(mesh, (4, 0, 0), 7.5, num_local_times=30,\n",
    "                                        rel_error_threshold=0.03, verbose=True)\n",
    "        if result:\n",
    "            results.append((file, result))\n",
    "    except RuntimeError:\n",
    "        pass"
   ]
  },
  {
   "cell_type": "code",
   "execution_count": null,
   "metadata": {},
   "outputs": [],
   "source": [
    "plt.figure(figsize=(12, 8))\n",
    "plt.xlabel('Local time')\n",
    "plt.ylabel('Radius (Re)')\n",
    "\n",
    "cmap = plt.get_cmap('viridis')\n",
    "\n",
    "for i, (file, result) in enumerate(results):\n",
    "    localtimes = np.rad2deg(result.drift_local_times) * 24 / 360 + 12\n",
    "    localtimes %= 24\n",
    "    I = np.argsort(localtimes)\n",
    "    plt.plot(localtimes[I], result.drift_rvalues[I], '.-', label=file.split('/')[-1], color=cmap(i/len(results)))\n",
    "\n",
    "plt.legend(ncol=1, loc='center left', bbox_to_anchor=(1, 0.5))\n",
    "plt.grid()"
   ]
  },
  {
   "cell_type": "code",
   "execution_count": null,
   "metadata": {},
   "outputs": [],
   "source": [
    "plt.figure(figsize=(8, 8))\n",
    "\n",
    "cmap = plt.get_cmap('viridis')\n",
    "\n",
    "for i, (file, result) in enumerate(results):\n",
    "    x = np.cos(result.drift_local_times) * result.drift_rvalues\n",
    "    y = np.sin(result.drift_local_times) * result.drift_rvalues\n",
    "    \n",
    "    x = x.tolist() + [x[0]]\n",
    "    y = y.tolist() + [y[0]]\n",
    "    \n",
    "    plt.plot(x, y, color=cmap(i/len(results)), label=file.split('/')[-1])\n",
    "\n",
    "plt.legend(ncol=1, loc='center left', bbox_to_anchor=(1, 0.5))\n",
    "#plt.yscale('symlog')\n",
    "#plt.xscale('symlog')\n",
    "plt.grid()"
   ]
  },
  {
   "cell_type": "code",
   "execution_count": null,
   "metadata": {},
   "outputs": [],
   "source": []
  }
 ],
 "metadata": {
  "kernelspec": {
   "display_name": "dasilvaInvariants",
   "language": "python",
   "name": "dasilvainvariants"
  },
  "language_info": {
   "codemirror_mode": {
    "name": "ipython",
    "version": 3
   },
   "file_extension": ".py",
   "mimetype": "text/x-python",
   "name": "python",
   "nbconvert_exporter": "python",
   "pygments_lexer": "ipython3",
   "version": "3.10.0"
  }
 },
 "nbformat": 4,
 "nbformat_minor": 4
}
