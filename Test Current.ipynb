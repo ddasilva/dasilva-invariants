{
 "cells": [
  {
   "cell_type": "code",
   "execution_count": null,
   "metadata": {},
   "outputs": [],
   "source": [
    "import importlib\n",
    "from dasilva_invariants import diagnostics, meshes, invariants\n",
    "importlib.reload(diagnostics)\n",
    "importlib.reload(meshes)\n",
    "importlib.reload(invariants)\n",
    "\n",
    "from datetime import datetime\n",
    "import numpy as np"
   ]
  },
  {
   "cell_type": "markdown",
   "metadata": {},
   "source": [
    "# LFM"
   ]
  },
  {
   "cell_type": "code",
   "execution_count": null,
   "metadata": {},
   "outputs": [],
   "source": [
    "mesh_lfm = meshes.get_lfm_hdf4_data('../data/LFM-20131002_RBSP/ElkStorm_mhd_2013-10-03T07-46-00Z.hdf')\n",
    "mesh_dip = meshes.get_dipole_mesh_on_lfm_grid('../data/LFM-20131002_RBSP/ElkStorm_mhd_2013-10-03T07-46-00Z.hdf')\n",
    "\n",
    "mesh = mesh_lfm.copy()\n",
    "mesh['B'] = mesh_lfm['B'] - mesh_dip['B']"
   ]
  },
  {
   "cell_type": "code",
   "execution_count": null,
   "metadata": {},
   "outputs": [],
   "source": [
    "ax = diagnostics.equitorial_plot_of_intensity(mesh, 'LFM with Dipole Subtracted')\n",
    "diagnostics.add_field_isolines_to_equitorial_plot(ax, mesh_lfm)"
   ]
  },
  {
   "cell_type": "code",
   "execution_count": null,
   "metadata": {},
   "outputs": [],
   "source": [
    "ax = diagnostics.meridional_plot_of_intensity(mesh, 'LFM with Dipole Subtracted')\n",
    "diagnostics.add_field_line_traces_meridional_plot(ax, mesh_lfm)"
   ]
  },
  {
   "cell_type": "code",
   "execution_count": null,
   "metadata": {},
   "outputs": [],
   "source": [
    "ax = diagnostics.equitorial_plot_of_current(mesh, 'LFM with Dipole Subtracted')\n",
    "diagnostics.add_field_isolines_to_equitorial_plot(ax, mesh_lfm)"
   ]
  },
  {
   "cell_type": "code",
   "execution_count": null,
   "metadata": {},
   "outputs": [],
   "source": [
    "ax = diagnostics.meridional_plot_of_current(mesh, 'LFM with Dipole Subtracted')\n",
    "diagnostics.add_field_line_traces_meridional_plot(ax, mesh_lfm)"
   ]
  },
  {
   "cell_type": "code",
   "execution_count": null,
   "metadata": {},
   "outputs": [],
   "source": []
  },
  {
   "cell_type": "markdown",
   "metadata": {},
   "source": [
    "# LFM with RCM"
   ]
  },
  {
   "cell_type": "code",
   "execution_count": null,
   "metadata": {},
   "outputs": [],
   "source": [
    "mesh_lfm = meshes.get_lfm_hdf4_data('../data/LFMRCM-20131002_RBSP/ElkStorm-LR_mhd_2013-10-03T07-46-00Z.hdf')\n",
    "mesh_dip = meshes.get_dipole_mesh_on_lfm_grid('../data/LFM-20131002_RBSP/ElkStorm_mhd_2013-10-03T07-46-00Z.hdf')\n",
    "\n",
    "mesh = mesh_lfm.copy()\n",
    "mesh['B'] = mesh_lfm['B'] - mesh_dip['B']"
   ]
  },
  {
   "cell_type": "code",
   "execution_count": null,
   "metadata": {},
   "outputs": [],
   "source": [
    "diagnostics.equitorial_plot_of_intensity(mesh, 'LFM with RCM and Dipole Subtracted')\n",
    "diagnostics.meridional_plot_of_intensity(mesh, 'LFM with RCM and Dipole Subtracted')"
   ]
  },
  {
   "cell_type": "code",
   "execution_count": null,
   "metadata": {},
   "outputs": [],
   "source": [
    "diagnostics.current_plots(mesh, 'LFM with RCM and Dipole Subtracted')"
   ]
  },
  {
   "cell_type": "markdown",
   "metadata": {},
   "source": [
    "# T96 (Dst=0)"
   ]
  },
  {
   "cell_type": "code",
   "execution_count": null,
   "metadata": {},
   "outputs": [],
   "source": [
    "lfm_hdf4_path = '../data/lfm_data/hdf4/March2015_mhd_2015-03-17T04-45-00Z.hdf'\n",
    "mesh_t96 = meshes.get_t96_mesh_on_lfm_grid(\n",
    "    dynamic_pressure=1,\n",
    "    Dst=0, \n",
    "    By_imf=7 / np.sqrt(2),\n",
    "    Bz_imf=7 / np.sqrt(2),\n",
    "    lfm_hdf4_path=lfm_hdf4_path,\n",
    "    external_field_only=True,\n",
    "    time=datetime(2015, 3, 17, 4, 45))\n"
   ]
  },
  {
   "cell_type": "code",
   "execution_count": null,
   "metadata": {},
   "outputs": [],
   "source": [
    "diagnostics.equitorial_plot_of_intensity(mesh_t96, 'T96 with no Internal Field')\n",
    "diagnostics.meridional_plot_of_intensity(mesh_t96, 'T96 with no Internal Field')"
   ]
  },
  {
   "cell_type": "code",
   "execution_count": null,
   "metadata": {},
   "outputs": [],
   "source": [
    "diagnostics.current_plots(mesh_t96, 'T96 with no Internal Field')"
   ]
  },
  {
   "cell_type": "markdown",
   "metadata": {},
   "source": [
    "# T96 (Dst=-50)"
   ]
  },
  {
   "cell_type": "code",
   "execution_count": null,
   "metadata": {},
   "outputs": [],
   "source": [
    "lfm_hdf4_path = '../data/lfm_data/hdf4/March2015_mhd_2015-03-17T04-45-00Z.hdf'\n",
    "mesh_t96 = meshes.get_t96_mesh_on_lfm_grid(\n",
    "    dynamic_pressure=1,\n",
    "    Dst=-50, \n",
    "    By_imf=7 / np.sqrt(2),\n",
    "    Bz_imf=7 / np.sqrt(2),\n",
    "    lfm_hdf4_path=lfm_hdf4_path,\n",
    "    external_field_only=True,\n",
    "    time=datetime(2015, 3, 17, 4, 45))\n"
   ]
  },
  {
   "cell_type": "code",
   "execution_count": null,
   "metadata": {},
   "outputs": [],
   "source": [
    "diagnostics.equitorial_plot_of_intensity(mesh_t96, 'T96 with no Internal Field')\n",
    "diagnostics.meridional_plot_of_intensity(mesh_t96, 'T96 with no Internal Field')"
   ]
  },
  {
   "cell_type": "code",
   "execution_count": null,
   "metadata": {},
   "outputs": [],
   "source": [
    "diagnostics.current_plots(mesh_t96, 'T96 with no Internal Field')"
   ]
  },
  {
   "cell_type": "code",
   "execution_count": null,
   "metadata": {},
   "outputs": [],
   "source": []
  },
  {
   "cell_type": "markdown",
   "metadata": {},
   "source": [
    "# T96 (Dst=-100)"
   ]
  },
  {
   "cell_type": "code",
   "execution_count": null,
   "metadata": {},
   "outputs": [],
   "source": [
    "lfm_hdf4_path = '../data/lfm_data/hdf4/March2015_mhd_2015-03-17T04-45-00Z.hdf'\n",
    "mesh_t96 = meshes.get_t96_mesh_on_lfm_grid(\n",
    "    dynamic_pressure=1,\n",
    "    Dst=-100, \n",
    "    By_imf=7 / np.sqrt(2),\n",
    "    Bz_imf=7 / np.sqrt(2),\n",
    "    lfm_hdf4_path=lfm_hdf4_path,\n",
    "    external_field_only=True,\n",
    "    time=datetime(2015, 3, 17, 4, 45))\n"
   ]
  },
  {
   "cell_type": "code",
   "execution_count": null,
   "metadata": {},
   "outputs": [],
   "source": [
    "diagnostics.equitorial_plot_of_intensity(mesh_t96, 'T96 with no Internal Field')\n",
    "diagnostics.meridional_plot_of_intensity(mesh_t96, 'T96 with no Internal Field')"
   ]
  },
  {
   "cell_type": "code",
   "execution_count": null,
   "metadata": {},
   "outputs": [],
   "source": [
    "diagnostics.current_plots(mesh_t96, 'T96 with no Internal Field')"
   ]
  },
  {
   "cell_type": "code",
   "execution_count": null,
   "metadata": {},
   "outputs": [],
   "source": []
  },
  {
   "cell_type": "code",
   "execution_count": null,
   "metadata": {},
   "outputs": [],
   "source": []
  }
 ],
 "metadata": {
  "kernelspec": {
   "display_name": "dasilvaInvariants",
   "language": "python",
   "name": "dasilvainvariants"
  },
  "language_info": {
   "codemirror_mode": {
    "name": "ipython",
    "version": 3
   },
   "file_extension": ".py",
   "mimetype": "text/x-python",
   "name": "python",
   "nbconvert_exporter": "python",
   "pygments_lexer": "ipython3",
   "version": "3.10.0"
  }
 },
 "nbformat": 4,
 "nbformat_minor": 4
}
