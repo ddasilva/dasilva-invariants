{
 "cells": [
  {
   "cell_type": "code",
   "execution_count": null,
   "metadata": {},
   "outputs": [],
   "source": [
    "import importlib\n",
    "from dasilva_invariants import diagnostics, meshes, invariants, utils\n",
    "importlib.reload(diagnostics)\n",
    "importlib.reload(meshes)\n",
    "importlib.reload(invariants)\n",
    "importlib.reload(utils)\n",
    "\n",
    "from datetime import datetime\n",
    "import numpy as np"
   ]
  },
  {
   "cell_type": "markdown",
   "metadata": {},
   "source": [
    "# LFM"
   ]
  },
  {
   "cell_type": "code",
   "execution_count": null,
   "metadata": {},
   "outputs": [],
   "source": [
    "mesh_lfm = meshes.get_lfm_hdf4_data('/glade/scratch/danieldas/data/LFM-20131002_RBSP/ElkStorm_mhd_2013-10-03T07-46-00Z.hdf')\n",
    "mesh_dip = meshes.get_dipole_mesh_on_lfm_grid('/glade/scratch/danieldas/data/LFM-20131002_RBSP/ElkStorm_mhd_2013-10-03T07-46-00Z.hdf')\n",
    "\n",
    "X_grid_re, Y_grid_re, Z_grid_re = meshes.get_lfm_hdf4_cell_edges('/glade/scratch/danieldas/data/LFM-20131002_RBSP/ElkStorm_mhd_2013-10-03T07-46-00Z.hdf')\n",
    "\n",
    "mesh = mesh_lfm.copy()\n",
    "mesh['B'] = mesh_lfm['B'] - mesh_dip['B']"
   ]
  },
  {
   "cell_type": "code",
   "execution_count": null,
   "metadata": {},
   "outputs": [],
   "source": [
    "ax = diagnostics.equitorial_plot_of_intensity(mesh, 'LFM with Dipole Subtracted')\n",
    "diagnostics.add_field_isolines_to_equitorial_plot(ax, mesh_lfm)"
   ]
  },
  {
   "cell_type": "code",
   "execution_count": null,
   "metadata": {},
   "outputs": [],
   "source": [
    "ax = diagnostics.meridional_plot_of_intensity(mesh, 'LFM with Dipole Subtracted')\n",
    "diagnostics.add_field_line_traces_meridional_plot(ax, mesh_lfm)"
   ]
  },
  {
   "cell_type": "code",
   "execution_count": null,
   "metadata": {},
   "outputs": [],
   "source": [
    "ax = diagnostics.equitorial_plot_of_current(mesh, 'LFM with Dipole Subtracted')\n",
    "diagnostics.add_field_isolines_to_equitorial_plot(ax, mesh_lfm)"
   ]
  },
  {
   "cell_type": "code",
   "execution_count": null,
   "metadata": {},
   "outputs": [],
   "source": [
    "ax = diagnostics.meridional_plot_of_current(mesh, 'LFM with Dipole Subtracted')\n",
    "diagnostics.add_field_line_traces_meridional_plot(ax, mesh_lfm)"
   ]
  },
  {
   "cell_type": "markdown",
   "metadata": {},
   "source": [
    "# LFM with RCM"
   ]
  },
  {
   "cell_type": "code",
   "execution_count": null,
   "metadata": {},
   "outputs": [],
   "source": [
    "mesh_lfm = meshes.get_lfm_hdf4_data('../data/LFMRCM-20131002_RBSP/ElkStorm-LR_mhd_2013-10-03T07-46-00Z.hdf')\n",
    "mesh_dip = meshes.get_dipole_mesh_on_lfm_grid('../data/LFM-20131002_RBSP/ElkStorm_mhd_2013-10-03T07-46-00Z.hdf')\n",
    "\n",
    "mesh = mesh_lfm.copy()\n",
    "mesh['B'] = mesh_lfm['B'] - mesh_dip['B']"
   ]
  },
  {
   "cell_type": "code",
   "execution_count": null,
   "metadata": {},
   "outputs": [],
   "source": [
    "ax = diagnostics.equitorial_plot_of_intensity(mesh, 'LFM with RCM and Dipole Subtracted')\n",
    "diagnostics.add_field_isolines_to_equitorial_plot(ax, mesh_lfm)"
   ]
  },
  {
   "cell_type": "code",
   "execution_count": null,
   "metadata": {},
   "outputs": [],
   "source": [
    "ax = diagnostics.meridional_plot_of_intensity(mesh, 'LFM with RCM and Dipole Subtracted')\n",
    "diagnostics.add_field_line_traces_meridional_plot(ax, mesh_lfm)"
   ]
  },
  {
   "cell_type": "code",
   "execution_count": null,
   "metadata": {},
   "outputs": [],
   "source": [
    "ax = diagnostics.equitorial_plot_of_current(mesh, 'LFM with RCM and Dipole Subtracted')\n",
    "diagnostics.add_field_isolines_to_equitorial_plot(ax, mesh_lfm)"
   ]
  },
  {
   "cell_type": "code",
   "execution_count": null,
   "metadata": {},
   "outputs": [],
   "source": [
    "ax = diagnostics.meridional_plot_of_current(mesh, 'LFM with RCM and Dipole Subtracted')\n",
    "diagnostics.add_field_line_traces_meridional_plot(ax, mesh_lfm)"
   ]
  },
  {
   "cell_type": "markdown",
   "metadata": {},
   "source": [
    "# T96 (Dst=0)"
   ]
  },
  {
   "cell_type": "code",
   "execution_count": null,
   "metadata": {},
   "outputs": [],
   "source": [
    "lfm_hdf4_path = '../data/lfm_data/hdf4/March2015_mhd_2015-03-17T04-45-00Z.hdf'\n",
    "t96_kwargs = dict(\n",
    "    dynamic_pressure=1,\n",
    "    By_imf=7 / np.sqrt(2),\n",
    "    Bz_imf=7 / np.sqrt(2),\n",
    "    lfm_hdf4_path=lfm_hdf4_path,\n",
    "    time=datetime(2015, 3, 17, 4, 45)\n",
    ")"
   ]
  },
  {
   "cell_type": "code",
   "execution_count": null,
   "metadata": {},
   "outputs": [],
   "source": [
    "mesh_t96 = meshes.get_t96_mesh_on_lfm_grid(Dst=0, external_field_only=True, **t96_kwargs)\n",
    "mesh_t96_full = meshes.get_t96_mesh_on_lfm_grid(Dst=0, external_field_only=False, **t96_kwargs)"
   ]
  },
  {
   "cell_type": "code",
   "execution_count": null,
   "metadata": {},
   "outputs": [],
   "source": [
    "ax = diagnostics.equitorial_plot_of_intensity(mesh_t96, 'T96 with no Internal Field (Dst=0 nT)')\n",
    "diagnostics.add_field_isolines_to_equitorial_plot(ax, mesh_t96_full)"
   ]
  },
  {
   "cell_type": "code",
   "execution_count": null,
   "metadata": {},
   "outputs": [],
   "source": [
    "ax = diagnostics.meridional_plot_of_intensity(mesh_t96, 'T96 with no Internal Field (Dst=0 nT)')\n",
    "diagnostics.add_field_line_traces_meridional_plot(ax, mesh_t96_full, Lshells=np.arange(4, 8))"
   ]
  },
  {
   "cell_type": "code",
   "execution_count": null,
   "metadata": {},
   "outputs": [],
   "source": [
    "ax = diagnostics.equitorial_plot_of_current(mesh_t96, 'T96 with no Internal Field (Dst=0 nT)')\n",
    "diagnostics.add_field_isolines_to_equitorial_plot(ax, mesh_t96_full)"
   ]
  },
  {
   "cell_type": "code",
   "execution_count": null,
   "metadata": {},
   "outputs": [],
   "source": [
    "ax = diagnostics.meridional_plot_of_current(mesh_t96, 'T96 with no Internal Field (Dst=0 nT)')\n",
    "diagnostics.add_field_line_traces_meridional_plot(ax, mesh_t96_full, Lshells=np.arange(4, 8))"
   ]
  },
  {
   "cell_type": "markdown",
   "metadata": {},
   "source": [
    "# T96 (Dst=-50)"
   ]
  },
  {
   "cell_type": "code",
   "execution_count": null,
   "metadata": {},
   "outputs": [],
   "source": [
    "mesh_t96 = meshes.get_t96_mesh_on_lfm_grid(Dst=-50, external_field_only=True, **t96_kwargs)\n",
    "mesh_t96_full = meshes.get_t96_mesh_on_lfm_grid(Dst=-50, external_field_only=False, **t96_kwargs)"
   ]
  },
  {
   "cell_type": "code",
   "execution_count": null,
   "metadata": {},
   "outputs": [],
   "source": [
    "ax = diagnostics.equitorial_plot_of_intensity(mesh_t96, 'T96 with no Internal Field (Dst=-50 nT)')\n",
    "diagnostics.add_field_isolines_to_equitorial_plot(ax, mesh_t96_full)"
   ]
  },
  {
   "cell_type": "code",
   "execution_count": null,
   "metadata": {},
   "outputs": [],
   "source": [
    "ax = diagnostics.meridional_plot_of_intensity(mesh_t96, 'T96 with no Internal Field (Dst=-50 nT)')\n",
    "diagnostics.add_field_line_traces_meridional_plot(ax, mesh_t96_full, Lshells=np.arange(4, 11))"
   ]
  },
  {
   "cell_type": "code",
   "execution_count": null,
   "metadata": {},
   "outputs": [],
   "source": [
    "ax = diagnostics.equitorial_plot_of_current(mesh_t96, 'T96 with no Internal Field (Dst=-50 nT)')\n",
    "diagnostics.add_field_isolines_to_equitorial_plot(ax, mesh_t96_full)"
   ]
  },
  {
   "cell_type": "code",
   "execution_count": null,
   "metadata": {},
   "outputs": [],
   "source": [
    "ax = diagnostics.meridional_plot_of_current(mesh_t96, 'T96 with no Internal Field (Dst=-50 nT)')\n",
    "diagnostics.add_field_line_traces_meridional_plot(ax, mesh_t96_full, Lshells=np.arange(4, 11))"
   ]
  },
  {
   "cell_type": "markdown",
   "metadata": {},
   "source": [
    "# T96 (Dst=-100)"
   ]
  },
  {
   "cell_type": "code",
   "execution_count": null,
   "metadata": {},
   "outputs": [],
   "source": [
    "mesh_t96 = meshes.get_t96_mesh_on_lfm_grid(Dst=-100, external_field_only=True, **t96_kwargs)\n",
    "mesh_t96_full = meshes.get_t96_mesh_on_lfm_grid(Dst=-100, external_field_only=False, **t96_kwargs)"
   ]
  },
  {
   "cell_type": "code",
   "execution_count": null,
   "metadata": {},
   "outputs": [],
   "source": [
    "ax = diagnostics.equitorial_plot_of_intensity(mesh_t96, 'T96 with no Internal Field (Dst=-100 nT)')\n",
    "diagnostics.add_field_isolines_to_equitorial_plot(ax, mesh_t96_full)"
   ]
  },
  {
   "cell_type": "code",
   "execution_count": null,
   "metadata": {},
   "outputs": [],
   "source": [
    "ax = diagnostics.meridional_plot_of_intensity(mesh_t96, 'T96 with no Internal Field (Dst=-100 nT)')\n",
    "diagnostics.add_field_line_traces_meridional_plot(ax, mesh_t96_full, Lshells=[4,5])"
   ]
  },
  {
   "cell_type": "code",
   "execution_count": null,
   "metadata": {},
   "outputs": [],
   "source": [
    "ax = diagnostics.equitorial_plot_of_current(mesh_t96, 'T96 with no Internal Field (Dst=-100 nT)')\n",
    "diagnostics.add_field_isolines_to_equitorial_plot(ax, mesh_t96_full)"
   ]
  },
  {
   "cell_type": "code",
   "execution_count": null,
   "metadata": {},
   "outputs": [],
   "source": [
    "ax = diagnostics.meridional_plot_of_current(mesh_t96, 'T96 with no Internal Field (Dst=-100 nT)')\n",
    "diagnostics.add_field_line_traces_meridional_plot(ax, mesh_t96_full, Lshells=[4,5])"
   ]
  }
 ],
 "metadata": {
  "kernelspec": {
   "display_name": "Python [conda env:anaconda3-dasilva-invariants]",
   "language": "python",
   "name": "conda-env-anaconda3-dasilva-invariants-py"
  },
  "language_info": {
   "codemirror_mode": {
    "name": "ipython",
    "version": 3
   },
   "file_extension": ".py",
   "mimetype": "text/x-python",
   "name": "python",
   "nbconvert_exporter": "python",
   "pygments_lexer": "ipython3",
   "version": "3.10.4"
  }
 },
 "nbformat": 4,
 "nbformat_minor": 4
}
