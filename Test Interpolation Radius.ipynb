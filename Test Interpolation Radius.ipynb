{
 "cells": [
  {
   "cell_type": "code",
   "execution_count": null,
   "id": "b595b1e9-a929-4f6c-a87c-8cb1573b2bc8",
   "metadata": {},
   "outputs": [],
   "source": [
    "from ai import cs\n",
    "import numpy as np\n",
    "import pyvista\n",
    "import pylab as plt\n",
    "\n",
    "import importlib\n",
    "from dasilva_invariants import meshes\n",
    "importlib.reload(meshes)"
   ]
  },
  {
   "cell_type": "code",
   "execution_count": null,
   "id": "d96a0ae6-6edf-41b4-8931-a9de5382ea18",
   "metadata": {},
   "outputs": [],
   "source": [
    "mesh = meshes.get_dipole_mesh_on_lfm_grid('../lfm_data/hdf4/March2015_mhd_2015-03-17T04-30-00Z.hdf')"
   ]
  },
  {
   "cell_type": "code",
   "execution_count": null,
   "id": "8927ec90-9c5c-446a-9ae4-3bacbfc9e88b",
   "metadata": {},
   "outputs": [],
   "source": [
    "x, y, z = cs.sp2cart(r=2, theta=np.deg2rad(80), phi=0)\n",
    "x, y, z\n"
   ]
  },
  {
   "cell_type": "code",
   "execution_count": null,
   "id": "3f8ba01f-5352-4254-8bbf-4f7322d94e69",
   "metadata": {},
   "outputs": [],
   "source": [
    "cs.cart2sp(x, y, z)"
   ]
  },
  {
   "cell_type": "code",
   "execution_count": null,
   "id": "d5256a00-79fc-498d-b861-7cf6637a626d",
   "metadata": {},
   "outputs": [],
   "source": [
    "points = pyvista.PolyData([(x, y, z)])\n",
    "\n",
    "xs = np.linspace(0.01, 0.5, 100)\n",
    "ys = []\n",
    "\n",
    "for val in xs:\n",
    "    result = points.interpolate(mesh, radius=val)\n",
    "    ys.append(np.linalg.norm(result['B']))\n",
    "\n",
    "plt.plot(xs, ys)"
   ]
  },
  {
   "cell_type": "code",
   "execution_count": null,
   "id": "0c589215-00b5-4cf9-a6c0-0fb8fff7119f",
   "metadata": {},
   "outputs": [],
   "source": [
    "np.linalg.norm(result['B'][0])"
   ]
  }
 ],
 "metadata": {
  "kernelspec": {
   "display_name": "dasilvaInvariants",
   "language": "python",
   "name": "dasilvainvariants"
  },
  "language_info": {
   "codemirror_mode": {
    "name": "ipython",
    "version": 3
   },
   "file_extension": ".py",
   "mimetype": "text/x-python",
   "name": "python",
   "nbconvert_exporter": "python",
   "pygments_lexer": "ipython3",
   "version": "3.10.0"
  }
 },
 "nbformat": 4,
 "nbformat_minor": 5
}
