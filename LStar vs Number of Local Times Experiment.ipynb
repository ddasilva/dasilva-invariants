{
 "cells": [
  {
   "cell_type": "code",
   "execution_count": null,
   "id": "1bd50ba2",
   "metadata": {},
   "outputs": [],
   "source": [
    "import pylab as plt\n",
    "import seaborn as sns\n",
    "import pandas as pd \n",
    "import numpy as np"
   ]
  },
  {
   "cell_type": "code",
   "execution_count": null,
   "id": "e3955e71-3ff3-4c1e-81a2-028837d53b90",
   "metadata": {},
   "outputs": [],
   "source": [
    "sns.set_style('darkgrid')\n",
    "\n",
    "SMALL_SIZE = 16\n",
    "MEDIUM_SIZE = 18\n",
    "BIGGER_SIZE = 22\n",
    "DPI = 500\n",
    "\n",
    "plt.rc('font', size=SMALL_SIZE)          # controls default text sizes\n",
    "plt.rc('axes', titlesize=SMALL_SIZE)     # fontsize of the axes title\n",
    "plt.rc('axes', labelsize=MEDIUM_SIZE)    # fontsize of the x and y labels\n",
    "plt.rc('xtick', labelsize=SMALL_SIZE)    # fontsize of the tick labels\n",
    "plt.rc('ytick', labelsize=SMALL_SIZE)    # fontsize of the tick labels\n",
    "plt.rc('legend', fontsize=SMALL_SIZE)    # legend fontsize\n",
    "plt.rc('figure', titlesize=BIGGER_SIZE)  # fontsize of the figure title"
   ]
  },
  {
   "cell_type": "markdown",
   "id": "80076eba-62c1-47c9-8cec-60e815989536",
   "metadata": {},
   "source": [
    "# Plotting"
   ]
  },
  {
   "cell_type": "code",
   "execution_count": null,
   "id": "202c7d6a-0947-46c2-9f20-efe57c8da1b8",
   "metadata": {},
   "outputs": [],
   "source": [
    "pitch_angles = [30, 40, 50, 60, 70, 80, 89]\n",
    "disturbed_titles = {\n",
    "    'LFM': 'LFM During Disturbed Period',\n",
    "    'LFM-RCM': 'LFM-RCM During Disturbed Period',\n",
    "    'T96': 'T96 During Disturbed Period',\n",
    "    'TS05': 'TS05 During Disturbed Period',\n",
    "}\n",
    "quiet_titles = {\n",
    "  'LFM': 'LFM During Quiet Time',\n",
    "  'LFM-RCM': 'LFM-RCM During Quiet Time',\n",
    "  'T96': 'T96 During Quiet Time',\n",
    "  'TS05': 'TS05 During Quiet Time',\n",
    "}"
   ]
  },
  {
   "cell_type": "code",
   "execution_count": null,
   "id": "f80912cf-07c8-4449-b0c0-735728c20a64",
   "metadata": {
    "tags": []
   },
   "outputs": [],
   "source": [
    "df_quiet = pd.read_csv(\"./local_times_experiment_quiet.csv\")\n",
    "df_disturbed = pd.read_csv(\"./local_times_experiment_disturbed.csv\")\n",
    "df_disturbed.head()"
   ]
  },
  {
   "cell_type": "markdown",
   "id": "bb95d1f8-a05d-4f2e-9119-ceef89ee932d",
   "metadata": {},
   "source": [
    "# Plotting"
   ]
  },
  {
   "cell_type": "code",
   "execution_count": null,
   "id": "9689a27f-8885-4dcd-9098-54c4679b9034",
   "metadata": {},
   "outputs": [],
   "source": [
    "def make_plot(df, pitch_angles, titles, axes):\n",
    "    cnt = 0\n",
    "\n",
    "    cmap = plt.get_cmap('viridis')\n",
    "    \n",
    "    for mesh_name in titles.keys():\n",
    "        ax = axes[cnt]\n",
    "        cnt += 1\n",
    "\n",
    "        for pa in pitch_angles:\n",
    "            ax.plot(df.num_local_times, df[mesh_name + '_' + str(int(pa))], 'o-', color=cmap(pa/90), label=f'Pitch Angle {pa:d}' + \"$^\\circ$\")\n",
    "        ax.set_title(titles[mesh_name], fontweight='bold')\n",
    "        ax.set_ylabel('$L^*$ (Re)')\n",
    "        ax.set_ylim(6, 10)\n",
    "        ax.set_yticks(np.arange(int(ax.get_ylim()[0]), int(ax.get_ylim()[1]) + 1))\n",
    "        ax.plot(df.num_local_times, [8] * len(df.num_local_times), 'k--', label='Dipole L*')\n",
    "    axes[0].legend(loc='upper center', ncol=4, facecolor='#ccc', fontsize=12)\n",
    "    axes[-1].set_xlabel('Number of Local Times in Drift Shell')"
   ]
  },
  {
   "cell_type": "code",
   "execution_count": null,
   "id": "03571033",
   "metadata": {},
   "outputs": [],
   "source": [
    "fig, axes = plt.subplots(4, 2, figsize=(20, 15), sharex='col')\n",
    "fig.suptitle('Number of Required Local Times Experiment (Drift Starting at Nightside 8 Re)', fontweight='bold')\n",
    "\n",
    "make_plot(df_quiet, pitch_angles, quiet_titles, axes[:, 0])\n",
    "make_plot(df_disturbed, pitch_angles, disturbed_titles, axes[:, 1])\n",
    "\n",
    "fig.tight_layout()"
   ]
  },
  {
   "cell_type": "markdown",
   "id": "c5410642-819e-4e2c-8889-08dfb6c4611c",
   "metadata": {},
   "source": [
    "# Diagnostics"
   ]
  },
  {
   "cell_type": "code",
   "execution_count": null,
   "id": "5c80f52b-c7a0-43d4-9f72-7ecc756700f5",
   "metadata": {},
   "outputs": [],
   "source": [
    "mesh = pyvista.read(mesh_quiet_t96_fname)"
   ]
  },
  {
   "cell_type": "code",
   "execution_count": null,
   "id": "2fd1b187-6efe-4e71-afda-0ee5f87e7afa",
   "metadata": {},
   "outputs": [],
   "source": [
    "diagnostics.LStar_integrand_plot(\n",
    "        mesh, 'Number of Local Times: 100', r=8, th=180, mirror_deg=None,\n",
    "        LStar_kwargs={'num_local_times': 100, 'starting_pitch_angle': 90, 'verbose': 0}\n",
    "    )"
   ]
  },
  {
   "cell_type": "code",
   "execution_count": null,
   "id": "c4fbaa3e-f2b3-469c-8ec3-599f6bc2ebe6",
   "metadata": {},
   "outputs": [],
   "source": [
    "diagnostics.meridional_plot_of_current(mesh, '')"
   ]
  },
  {
   "cell_type": "code",
   "execution_count": null,
   "id": "86bd1e21-3448-422b-a175-5503003300ca",
   "metadata": {},
   "outputs": [],
   "source": []
  }
 ],
 "metadata": {
  "kernelspec": {
   "display_name": "Python [conda env:anaconda3-dasilva-invariants]",
   "language": "python",
   "name": "conda-env-anaconda3-dasilva-invariants-py"
  },
  "language_info": {
   "codemirror_mode": {
    "name": "ipython",
    "version": 3
   },
   "file_extension": ".py",
   "mimetype": "text/x-python",
   "name": "python",
   "nbconvert_exporter": "python",
   "pygments_lexer": "ipython3",
   "version": "3.10.5"
  }
 },
 "nbformat": 4,
 "nbformat_minor": 5
}
