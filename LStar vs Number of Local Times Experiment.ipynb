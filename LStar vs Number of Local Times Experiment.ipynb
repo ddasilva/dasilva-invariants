{
 "cells": [
  {
   "cell_type": "code",
   "execution_count": null,
   "metadata": {},
   "outputs": [],
   "source": [
    "import importlib\n",
    "from dasilva_invariants import diagnostics, meshes, invariants\n",
    "importlib.reload(diagnostics)\n",
    "importlib.reload(meshes)\n",
    "importlib.reload(invariants)\n",
    "\n",
    "from datetime import datetime\n",
    "import numpy as np\n",
    "import pylab as plt"
   ]
  },
  {
   "cell_type": "code",
   "execution_count": null,
   "metadata": {},
   "outputs": [],
   "source": [
    "def lstar_vs_nlocaltimes_experiment(mesh, max_points=20):\n",
    "    Lstars = {}\n",
    "    for i in range(2, max_points):\n",
    "        r = 7\n",
    "        th = 0\n",
    "        mirror_deg = 7.5\n",
    "        x, y = np.cos(np.deg2rad(th)) * r, np.sin(np.deg2rad(th)) * r\n",
    "        Lstars[i] = invariants.calculate_LStar(mesh, (x, y, 0), mirror_deg, num_local_times=i)\n",
    "    return Lstars"
   ]
  },
  {
   "cell_type": "code",
   "execution_count": null,
   "metadata": {},
   "outputs": [],
   "source": [
    "def plot_experiment(Lstars, model_title):\n",
    "    plt.plot(Lstars.keys(), np.array([res.LStar for res in Lstars.values()]), 'o')\n",
    "    plt.ylabel('L*')\n",
    "    plt.xlabel('Number of Local Times')\n",
    "    plt.title(model_title)\n",
    "    plt.xticks(list(Lstars.keys()))"
   ]
  },
  {
   "cell_type": "markdown",
   "metadata": {},
   "source": [
    "# LFM"
   ]
  },
  {
   "cell_type": "code",
   "execution_count": null,
   "metadata": {},
   "outputs": [],
   "source": [
    "mesh = meshes.get_lfm_hdf4_data('../data/20140108_BARREL-LR-small/20140108_BARREL_mhd_2014-01-08T12-48-30Z.hdf')"
   ]
  },
  {
   "cell_type": "code",
   "execution_count": null,
   "metadata": {
    "tags": []
   },
   "outputs": [],
   "source": [
    "Lstars = lstar_vs_nlocaltimes_experiment(mesh)"
   ]
  },
  {
   "cell_type": "code",
   "execution_count": null,
   "metadata": {},
   "outputs": [],
   "source": [
    "plot_experiment(Lstars, 'LFM')"
   ]
  },
  {
   "cell_type": "markdown",
   "metadata": {},
   "source": [
    "# Dipole"
   ]
  },
  {
   "cell_type": "code",
   "execution_count": null,
   "metadata": {},
   "outputs": [],
   "source": [
    "mesh = meshes.get_dipole_mesh_on_lfm_grid('../data/lfm_data/hdf4/March2015_mhd_2015-03-17T04-30-00Z.hdf')"
   ]
  },
  {
   "cell_type": "code",
   "execution_count": null,
   "metadata": {
    "tags": []
   },
   "outputs": [],
   "source": [
    "Lstars = lstar_vs_nlocaltimes_experiment(mesh)"
   ]
  },
  {
   "cell_type": "code",
   "execution_count": null,
   "metadata": {},
   "outputs": [],
   "source": [
    "plot_experiment(Lstars, 'Dipole')"
   ]
  },
  {
   "cell_type": "markdown",
   "metadata": {},
   "source": [
    "# T96"
   ]
  },
  {
   "cell_type": "code",
   "execution_count": null,
   "metadata": {
    "tags": []
   },
   "outputs": [],
   "source": [
    "lfm_hdf4_path = '../data/lfm_data/hdf4/March2015_mhd_2015-03-17T04-45-00Z.hdf'\n",
    "mesh = meshes.get_t96_mesh_on_lfm_grid(\n",
    "    dynamic_pressure=1,\n",
    "    Dst=0, \n",
    "    By_imf=7 / np.sqrt(2),\n",
    "    Bz_imf=7 / np.sqrt(2),\n",
    "    lfm_hdf4_path=lfm_hdf4_path,\n",
    "    time=datetime(2015, 3, 17, 4, 45))"
   ]
  },
  {
   "cell_type": "code",
   "execution_count": null,
   "metadata": {},
   "outputs": [],
   "source": [
    "Lstars = lstar_vs_nlocaltimes_experiment(mesh)"
   ]
  },
  {
   "cell_type": "code",
   "execution_count": null,
   "metadata": {},
   "outputs": [],
   "source": [
    "plot_experiment(Lstars, 'T96')"
   ]
  },
  {
   "cell_type": "code",
   "execution_count": null,
   "metadata": {},
   "outputs": [],
   "source": []
  }
 ],
 "metadata": {
  "kernelspec": {
   "display_name": "dasilvaInvariants",
   "language": "python",
   "name": "dasilvainvariants"
  },
  "language_info": {
   "codemirror_mode": {
    "name": "ipython",
    "version": 3
   },
   "file_extension": ".py",
   "mimetype": "text/x-python",
   "name": "python",
   "nbconvert_exporter": "python",
   "pygments_lexer": "ipython3",
   "version": "3.10.0"
  }
 },
 "nbformat": 4,
 "nbformat_minor": 5
}
