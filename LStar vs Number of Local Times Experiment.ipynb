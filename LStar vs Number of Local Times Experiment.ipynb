{
 "cells": [
  {
   "cell_type": "code",
   "execution_count": null,
   "id": "1bd50ba2",
   "metadata": {},
   "outputs": [],
   "source": [
    "import importlib\n",
    "from dasilva_invariants import diagnostics, meshes, invariants\n",
    "import glob\n",
    "from joblib import delayed, Parallel\n",
    "from datetime import datetime\n",
    "import numpy as np\n",
    "import pylab as plt\n",
    "import seaborn as sns\n",
    "import pyvista\n",
    "\n",
    "importlib.reload(diagnostics)\n",
    "importlib.reload(meshes)\n",
    "importlib.reload(invariants)"
   ]
  },
  {
   "cell_type": "code",
   "execution_count": null,
   "id": "dac8b558-1310-48ee-88fd-211860485e5d",
   "metadata": {},
   "outputs": [],
   "source": [
    "sns.set_style('darkgrid')\n",
    "\n",
    "SMALL_SIZE = 16\n",
    "MEDIUM_SIZE = 18\n",
    "BIGGER_SIZE = 22\n",
    "DPI = 500\n",
    "\n",
    "plt.rc('font', size=SMALL_SIZE)          # controls default text sizes\n",
    "plt.rc('axes', titlesize=SMALL_SIZE)     # fontsize of the axes title\n",
    "plt.rc('axes', labelsize=MEDIUM_SIZE)    # fontsize of the x and y labels\n",
    "plt.rc('xtick', labelsize=SMALL_SIZE)    # fontsize of the tick labels\n",
    "plt.rc('ytick', labelsize=SMALL_SIZE)    # fontsize of the tick labels\n",
    "plt.rc('legend', fontsize=SMALL_SIZE)    # legend fontsize\n",
    "plt.rc('figure', titlesize=BIGGER_SIZE)  # fontsize of the figure title"
   ]
  },
  {
   "cell_type": "code",
   "execution_count": null,
   "id": "9e55ec72",
   "metadata": {},
   "outputs": [],
   "source": [
    "def lstar_vs_nlocaltimes_experiment(mesh_fname, mirror_deg, max_points, d, title):\n",
    "    tasks = []\n",
    "\n",
    "    rel_error_threshold = 0.01\n",
    "\n",
    "    for i in range(2, max_points):\n",
    "        tasks.append(delayed(_target)(\n",
    "            mesh_fname, (d, 0, 0), mirror_deg, num_local_times=i,\n",
    "            verbose=0, rel_error_threshold=rel_error_threshold\n",
    "        ))\n",
    "\n",
    "    par = Parallel(verbose=10000, n_jobs=-1, backend='multiprocessing')\n",
    "    results = par(tasks)\n",
    "\n",
    "    return results\n",
    "\n",
    "\n",
    "def _target(mesh_fname, *args, **kwargs):\n",
    "    if mesh_fname.endswith('.vtk'):\n",
    "        mesh = pyvista.read(mesh_fname)\n",
    "    else:\n",
    "        mesh = meshes.get_lfm_hdf4_data(mesh_fname)\n",
    "    try:\n",
    "        return invariants.calculate_LStar(mesh, *args, **kwargs).LStar\n",
    "    except invariants.DriftShellBisectionDoesntConverge as e:\n",
    "        print(e)\n",
    "        return np.nan\n",
    "    except invariants.FieldLineTraceReturnedEmpty as e:\n",
    "        print(e)\n",
    "        return np.nan"
   ]
  },
  {
   "cell_type": "markdown",
   "id": "59e1f413",
   "metadata": {},
   "source": [
    "# Processing"
   ]
  },
  {
   "cell_type": "code",
   "execution_count": null,
   "id": "a3da1a4e",
   "metadata": {},
   "outputs": [],
   "source": [
    "mesh_main_fname = '../../data/LFM-20131002_RBSP/ElkStorm_mhd_2013-10-02T06-19-00Z.hdf' # datetime.datetime(2013, 10, 2, 6, 19)\n",
    "mesh_quiet_fname = '../../data/LFM-20131002_RBSP/ElkStorm_mhd_2013-10-04T00-00-00Z.hdf' # datetime(2013, 10, 4, 0, 0)\n"
   ]
  },
  {
   "cell_type": "code",
   "execution_count": null,
   "id": "1170c546-9448-41a1-aa15-a0cc864afe22",
   "metadata": {},
   "outputs": [],
   "source": [
    "ls -l1d $HOME"
   ]
  },
  {
   "cell_type": "code",
   "execution_count": null,
   "id": "8b4727c6-90e6-4b3d-9484-46d75340ad2c",
   "metadata": {},
   "outputs": [],
   "source": [
    "mesh_dip = meshes.get_dipole_mesh_on_lfm_grid(mesh_main_fname)\n",
    "mesh_dip_fname = '//glade/u/home/danieldas//dipole.vtk'\n",
    "mesh_dip.save(mesh_dip_fname)"
   ]
  },
  {
   "cell_type": "code",
   "execution_count": null,
   "id": "648e2c0a",
   "metadata": {
    "tags": []
   },
   "outputs": [],
   "source": [
    "titles = [\n",
    "          'LFM During Disturbed Period',\n",
    "          'LFM During Quiet Time', \n",
    "          'Dipole on LFM Grid']\n",
    "mesh_fnames = [\n",
    "               mesh_main_fname,\n",
    "               mesh_quiet_fname,\n",
    "               mesh_dip_fname]\n",
    "mirroring_mlats = [15, 30, 60]\n",
    "max_points = 8\n",
    "starting_distance = -6\n",
    "\n",
    "Lstars = {}\n",
    "counter = 0\n",
    "\n",
    "for i in range(len(mesh_fnames)):\n",
    "    for j in range(len(mirroring_mlats)):\n",
    "        print(f'{counter + 1} out of {len(mesh_fnames)*len(mirroring_mlats)}')\n",
    "        counter += 1\n",
    "        Lstars[i, j] = lstar_vs_nlocaltimes_experiment(\n",
    "            mesh_fnames[i], mirroring_mlats[j], max_points, d=starting_distance, title=titles[i],\n",
    "        )"
   ]
  },
  {
   "cell_type": "code",
   "execution_count": null,
   "id": "03571033",
   "metadata": {},
   "outputs": [],
   "source": [
    "x = np.arange(2, max_points)\n",
    "\n",
    "data_min = np.nanmin(list(Lstars.values()))\n",
    "data_max = np.nanmax(list(Lstars.values()))\n",
    "\n",
    "#ylim = (data_min - (data_max - data_min) * .1,\n",
    "#        data_max + (data_max - data_min) * .1)\n",
    "\n",
    "ylim = (5, 7)\n",
    "\n",
    "fig, axes = plt.subplots(len(mesh_fnames), 1, figsize=(14, 10),\n",
    "                         sharex='all',\n",
    "                         sharey='all')\n",
    "\n",
    "fig.suptitle(f'Number of Required Local Times Experiment (Drift Starting at Nightside {-starting_distance} Re)', fontweight='bold')\n",
    "\n",
    "axes = axes.flatten()\n",
    "cnt = 0\n",
    "\n",
    "for i in range(len(mesh_fnames)):\n",
    "    ax = axes[cnt]\n",
    "    cnt += 1\n",
    "\n",
    "    for j in range(len(mirroring_mlats)):\n",
    "        ax.plot(\n",
    "            x, Lstars[i, j], 'o-',\n",
    "            label=f'Mirroring MLAT {mirroring_mlats[j]}' + \"$^\\circ$\"\n",
    "        )\n",
    "    ax.set_title(titles[i], fontweight='bold')\n",
    "    ax.set_ylim(ylim)\n",
    "    ax.set_ylabel('$L^*$ (Re)')\n",
    "\n",
    "axes[0].legend(loc='upper center', ncol=3, facecolor='#ccc')\n",
    "axes[-1].set_xlabel('Number of Local Times in Drift Shell')\n",
    "fig.tight_layout()"
   ]
  },
  {
   "cell_type": "code",
   "execution_count": null,
   "id": "e48e9239-185f-4cb2-a074-0fe74c8cb663",
   "metadata": {},
   "outputs": [],
   "source": []
  },
  {
   "cell_type": "code",
   "execution_count": null,
   "id": "2fd1b187-6efe-4e71-afda-0ee5f87e7afa",
   "metadata": {},
   "outputs": [],
   "source": []
  }
 ],
 "metadata": {
  "kernelspec": {
   "display_name": "Python [conda env:anaconda3-dasilva-invariants]",
   "language": "python",
   "name": "conda-env-anaconda3-dasilva-invariants-py"
  },
  "language_info": {
   "codemirror_mode": {
    "name": "ipython",
    "version": 3
   },
   "file_extension": ".py",
   "mimetype": "text/x-python",
   "name": "python",
   "nbconvert_exporter": "python",
   "pygments_lexer": "ipython3",
   "version": "3.10.4"
  }
 },
 "nbformat": 4,
 "nbformat_minor": 5
}
