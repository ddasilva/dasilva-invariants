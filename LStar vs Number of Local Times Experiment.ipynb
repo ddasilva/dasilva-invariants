{
 "cells": [
  {
   "cell_type": "code",
   "execution_count": null,
   "id": "a564ebb7-ffcd-45bc-a394-5c435ee3b1f2",
   "metadata": {},
   "outputs": [],
   "source": [
    "import importlib\n",
    "from dasilva_invariants import diagnostics, meshes, invariants\n",
    "importlib.reload(diagnostics)\n",
    "importlib.reload(meshes)\n",
    "importlib.reload(invariants)\n",
    "\n",
    "from datetime import datetime\n",
    "import numpy as np\n",
    "import pylab as plt"
   ]
  },
  {
   "cell_type": "code",
   "execution_count": null,
   "id": "1c65ad89-8f64-43fb-abb8-5312dc5360f4",
   "metadata": {},
   "outputs": [],
   "source": [
    "def lstar_vs_nlocaltimes_experiment(mesh, max_points=20):\n",
    "    Lstars = {}\n",
    "    for i in range(2, max_points):\n",
    "        r = 7\n",
    "        th = 0\n",
    "        mirror_deg = 7.5\n",
    "        x, y = np.cos(np.deg2rad(th)) * r, np.sin(np.deg2rad(th)) * r\n",
    "        Lstars[i] = invariants.calculate_LStar(mesh, (x, y, 0), mirror_deg, num_local_times=i)\n",
    "    return Lstars"
   ]
  },
  {
   "cell_type": "code",
   "execution_count": null,
   "id": "f0bdb30c-3bba-424a-867b-829bea628a5b",
   "metadata": {},
   "outputs": [],
   "source": [
    "def plot_experiment(Lstars, model_title):\n",
    "    plt.plot(Lstars.keys(), np.array([res.LStar for res in Lstars.values()]), 'o')\n",
    "    plt.ylabel('L*')\n",
    "    plt.xlabel('Number of Local Times')\n",
    "    plt.title(model_title)\n",
    "    plt.xticks(list(Lstars.keys()))"
   ]
  },
  {
   "cell_type": "markdown",
   "id": "aa262092-ffdf-4359-8e37-56dc27730721",
   "metadata": {},
   "source": [
    "# LFM"
   ]
  },
  {
   "cell_type": "code",
   "execution_count": null,
   "id": "7500b7d5-3ae7-4fdd-bc31-3ff9b0b6271a",
   "metadata": {},
   "outputs": [],
   "source": [
    "mesh = meshes.get_lfm_hdf4_data('../data/20140108_BARREL-LR-small/20140108_BARREL_mhd_2014-01-08T12-48-30Z.hdf')"
   ]
  },
  {
   "cell_type": "code",
   "execution_count": null,
   "id": "fda83cc3-a611-4db8-9ff2-4c7f3cf2b66c",
   "metadata": {
    "tags": []
   },
   "outputs": [],
   "source": [
    "Lstars = lstar_vs_nlocaltimes_experiment(mesh)"
   ]
  },
  {
   "cell_type": "code",
   "execution_count": null,
   "id": "312ead46-86be-4b7e-8bb9-ef7ae54be3a7",
   "metadata": {},
   "outputs": [],
   "source": [
    "plot_experiment(Lstars, 'LFM')"
   ]
  },
  {
   "cell_type": "markdown",
   "id": "5d8c0495-0ee0-468a-adfa-8174c5475600",
   "metadata": {},
   "source": [
    "# Dipole"
   ]
  },
  {
   "cell_type": "code",
   "execution_count": null,
   "id": "506b71c4-699f-448f-88eb-9a88fe73a336",
   "metadata": {},
   "outputs": [],
   "source": [
    "mesh = meshes.get_dipole_mesh_on_lfm_grid('../data/lfm_data/hdf4/March2015_mhd_2015-03-17T04-30-00Z.hdf')"
   ]
  },
  {
   "cell_type": "code",
   "execution_count": null,
   "id": "f15e91ce-3762-46bd-b014-3c67f0949a71",
   "metadata": {
    "tags": []
   },
   "outputs": [],
   "source": [
    "Lstars = lstar_vs_nlocaltimes_experiment(mesh)"
   ]
  },
  {
   "cell_type": "code",
   "execution_count": null,
   "id": "44c1ad33-6d3f-44a2-b829-b9a3960f56e3",
   "metadata": {},
   "outputs": [],
   "source": [
    "plot_experiment(Lstars, 'Dipole')"
   ]
  },
  {
   "cell_type": "markdown",
   "id": "94cdc77a-b4c2-4392-821d-ac54f397882d",
   "metadata": {},
   "source": [
    "# T96"
   ]
  },
  {
   "cell_type": "code",
   "execution_count": null,
   "id": "7934d2ab-998f-45e6-b9a8-eba386860b00",
   "metadata": {
    "tags": []
   },
   "outputs": [],
   "source": [
    "lfm_hdf4_path = '../data/lfm_data/hdf4/March2015_mhd_2015-03-17T04-45-00Z.hdf'\n",
    "mesh = meshes.get_t96_mesh_on_lfm_grid(\n",
    "    dynamic_pressure=1,\n",
    "    Dst=0, \n",
    "    By_imf=0,\n",
    "    Bz_imf=0,\n",
    "    lfm_hdf4_path=lfm_hdf4_path,\n",
    "    time=datetime(2015, 3, 17, 4, 45))"
   ]
  },
  {
   "cell_type": "code",
   "execution_count": null,
   "id": "92d89dc8-1ef5-45ca-9566-c5b0f2b05781",
   "metadata": {},
   "outputs": [],
   "source": [
    "Lstars = lstar_vs_nlocaltimes_experiment(mesh)"
   ]
  },
  {
   "cell_type": "code",
   "execution_count": null,
   "id": "9c8cbb09-53ea-40b8-90d1-60981351177a",
   "metadata": {},
   "outputs": [],
   "source": [
    "plot_experiment(Lstars, 'T96')"
   ]
  },
  {
   "cell_type": "code",
   "execution_count": null,
   "id": "cba83dc7-6638-47ac-bb1c-19803d5d9968",
   "metadata": {},
   "outputs": [],
   "source": []
  }
 ],
 "metadata": {
  "kernelspec": {
   "display_name": "dasilva-invariants",
   "language": "python",
   "name": "dasilva-invariants"
  },
  "language_info": {
   "codemirror_mode": {
    "name": "ipython",
    "version": 3
   },
   "file_extension": ".py",
   "mimetype": "text/x-python",
   "name": "python",
   "nbconvert_exporter": "python",
   "pygments_lexer": "ipython3",
   "version": "3.10.0"
  }
 },
 "nbformat": 4,
 "nbformat_minor": 5
}
