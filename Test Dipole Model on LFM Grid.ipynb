{
 "cells": [
  {
   "cell_type": "code",
   "execution_count": null,
   "id": "ed5bc7f3",
   "metadata": {},
   "outputs": [],
   "source": [
    "import os\n",
    "os.environ['DISPLAY']=':0'\n",
    "\n",
    "import numpy as np\n",
    "import pyvista\n",
    "\n",
    "import importlib\n",
    "from dasilva_invariants import meshes\n",
    "importlib.reload(meshes)"
   ]
  },
  {
   "cell_type": "code",
   "execution_count": null,
   "id": "94c4a0ca",
   "metadata": {},
   "outputs": [],
   "source": [
    "mesh = meshes.get_dipole_mesh_on_lfm_grid('../lfm_data/hdf4/March2015_mhd_2015-03-17T04-30-00Z.hdf')"
   ]
  },
  {
   "cell_type": "code",
   "execution_count": null,
   "id": "cf2fc17e",
   "metadata": {},
   "outputs": [],
   "source": [
    "p = pyvista.Plotter()\n",
    "\n",
    "for theta in np.linspace(0, 2 * np.pi, 9):\n",
    "    stream = mesh.streamlines(\n",
    "        'B', source_center=(6 * np.sin(theta), 6 * np.cos(theta), 0),\n",
    "        terminal_speed=0.0, n_points=200, source_radius=0.1,\n",
    "    )\n",
    "    p.add_mesh(stream)\n",
    "\n",
    "p.show_bounds(grid='front', location='outer', all_edges=True)\n",
    "p.show(auto_close=False)"
   ]
  },
  {
   "cell_type": "code",
   "execution_count": null,
   "id": "78b32441",
   "metadata": {},
   "outputs": [],
   "source": []
  }
 ],
 "metadata": {
  "kernelspec": {
   "display_name": "Python 3",
   "language": "python",
   "name": "python3"
  },
  "language_info": {
   "codemirror_mode": {
    "name": "ipython",
    "version": 3
   },
   "file_extension": ".py",
   "mimetype": "text/x-python",
   "name": "python",
   "nbconvert_exporter": "python",
   "pygments_lexer": "ipython3",
   "version": "3.8.5"
  }
 },
 "nbformat": 4,
 "nbformat_minor": 5
}
