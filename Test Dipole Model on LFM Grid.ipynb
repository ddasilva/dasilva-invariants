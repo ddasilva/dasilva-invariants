{
 "cells": [
  {
   "cell_type": "code",
   "execution_count": null,
   "id": "6fcc782d-8839-450e-8b65-51638652edb3",
   "metadata": {},
   "outputs": [],
   "source": [
    "import os\n",
    "os.environ['DISPLAY']=':0'\n",
    "\n",
    "import numpy as np\n",
    "import pyvista\n",
    "\n",
    "import importlib\n",
    "from dasilva_invariants import meshes\n",
    "importlib.reload(meshes)"
   ]
  },
  {
   "cell_type": "code",
   "execution_count": null,
   "id": "77d1cfc2-29f6-4079-a864-0b3c59d13141",
   "metadata": {},
   "outputs": [],
   "source": [
    "mesh = meshes.get_dipole_mesh_on_lfm_grid('../lfm_data/hdf4/March2015_mhd_2015-03-17T04-30-00Z.hdf')"
   ]
  },
  {
   "cell_type": "code",
   "execution_count": null,
   "id": "14c14dc2-bb63-4fd6-acc8-d9295432d2eb",
   "metadata": {},
   "outputs": [],
   "source": [
    "p = pyvista.Plotter()\n",
    "\n",
    "for theta in np.linspace(0, 2 * np.pi, 9):\n",
    "    stream = mesh.streamlines(\n",
    "        'B', source_center=(6 * np.sin(theta), 6 * np.cos(theta), 0),\n",
    "        terminal_speed=0.0, n_points=200, source_radius=0.1,\n",
    "    )\n",
    "    p.add_mesh(stream)\n",
    "\n",
    "p.show_bounds(grid='front', location='outer', all_edges=True)\n",
    "p.show(auto_close=False)"
   ]
  },
  {
   "cell_type": "code",
   "execution_count": null,
   "id": "e0632e2a-67dd-4366-b642-e95becf783be",
   "metadata": {},
   "outputs": [],
   "source": []
  }
 ],
 "metadata": {
  "kernelspec": {
   "display_name": "Python 3 (ipykernel)",
   "language": "python",
   "name": "python3"
  },
  "language_info": {
   "codemirror_mode": {
    "name": "ipython",
    "version": 3
   },
   "file_extension": ".py",
   "mimetype": "text/x-python",
   "name": "python",
   "nbconvert_exporter": "python",
   "pygments_lexer": "ipython3",
   "version": "3.10.0"
  }
 },
 "nbformat": 4,
 "nbformat_minor": 5
}
