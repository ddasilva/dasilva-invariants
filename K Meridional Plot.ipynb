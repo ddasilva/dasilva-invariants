{
 "cells": [
  {
   "cell_type": "code",
   "execution_count": null,
   "metadata": {},
   "outputs": [],
   "source": [
    "from datetime import datetime, timedelta\n",
    "import importlib\n",
    "from dasilva_invariants import diagnostics, meshes, invariants\n",
    "import numpy as np\n",
    "from joblib import delayed, Parallel\n",
    "import pyvista\n",
    "import pylab as plt\n",
    "from matplotlib.colors import LogNorm\n",
    "import seaborn as sns\n",
    "\n",
    "\n",
    "importlib.reload(diagnostics)\n",
    "importlib.reload(meshes)\n",
    "importlib.reload(invariants)\n",
    "\n",
    "%matplotlib inline"
   ]
  },
  {
   "cell_type": "code",
   "execution_count": null,
   "metadata": {},
   "outputs": [],
   "source": [
    "sns.set_style('darkgrid')\n",
    "\n",
    "SMALL_SIZE = 16\n",
    "MEDIUM_SIZE = 18\n",
    "BIGGER_SIZE = 22\n",
    "DPI = 500\n",
    "\n",
    "plt.rc('font', size=SMALL_SIZE)          # controls default text sizes\n",
    "plt.rc('axes', titlesize=SMALL_SIZE)     # fontsize of the axes title\n",
    "plt.rc('axes', labelsize=MEDIUM_SIZE)    # fontsize of the x and y labels\n",
    "plt.rc('xtick', labelsize=SMALL_SIZE)    # fontsize of the tick labels\n",
    "plt.rc('ytick', labelsize=SMALL_SIZE)    # fontsize of the tick labels\n",
    "plt.rc('legend', fontsize=SMALL_SIZE)    # legend fontsize\n",
    "plt.rc('figure', titlesize=BIGGER_SIZE)  # fontsize of the figure title"
   ]
  },
  {
   "cell_type": "code",
   "execution_count": null,
   "metadata": {},
   "outputs": [],
   "source": [
    "def task_target(mesh_fname, r, mlat, i, j):\n",
    "    mesh = pyvista.read(mesh_fname)\n",
    "    try:\n",
    "        res = invariants.calculate_K(mesh, (r, 0, 0), mlat)\n",
    "    except invariants.FieldLineTraceReturnedEmpty:\n",
    "        return np.nan, np.nan, np.nan, i, j\n",
    "\n",
    "    ii = res.trace_latitude.searchsorted(np.deg2rad(mlat))\n",
    "    if ii == res.trace_points.shape[0]:\n",
    "        return np.nan, np.nan, np.nan, i, j\n",
    "\n",
    "    xout = res.trace_points[ii, 0]\n",
    "    zout = res.trace_points[ii, 2]\n",
    "\n",
    "    return xout, zout, res.K, i, j"
   ]
  },
  {
   "cell_type": "code",
   "execution_count": null,
   "metadata": {},
   "outputs": [],
   "source": [
    "def process(mesh, nmlats=100, nrvalues=100, tail_rmax=7):\n",
    "    # Do processing in parallel ---------------------------------------------\n",
    "    lower_rvalue = np.linalg.norm(mesh.points, axis=1).min()\n",
    "    mlats = np.linspace(-75, 75, nmlats)\n",
    "    rvalues = []\n",
    "    rvalues.extend((-np.linspace(lower_rvalue, tail_rmax, nrvalues//2)).tolist()[::-1])\n",
    "    rvalues.extend(np.linspace(lower_rvalue, 7, nrvalues//2).tolist())\n",
    "    rvalues = np.array(rvalues)\n",
    "\n",
    "    mesh_fname = 'tmp.vtk'\n",
    "    mesh.save(mesh_fname)\n",
    "\n",
    "    tasks = []\n",
    "\n",
    "    for i, mlat in enumerate(mlats):\n",
    "        for j, r in enumerate(rvalues):\n",
    "            tasks.append(delayed(task_target)(mesh_fname, r, mlat, i, j))\n",
    "\n",
    "    print(f'{len(tasks)} tasks total')\n",
    "    p = Parallel(verbose=10000, backend='multiprocessing', n_jobs=-1)\n",
    "    parallel_results = p(tasks)\n",
    "\n",
    "    # Convert to numpy arrays -----------------------------------------------\n",
    "    X = np.zeros((mlats.size, rvalues.size), dtype=float)\n",
    "    Z = np.zeros((mlats.size, rvalues.size), dtype=float)\n",
    "    K = np.zeros((mlats.size, rvalues.size), dtype=float)\n",
    "\n",
    "    for xout, zout, Kout, i, j in parallel_results:\n",
    "        X[i, j] = xout\n",
    "        Z[i, j] = zout\n",
    "        K[i, j] = Kout\n",
    "\n",
    "    return X, Z, K"
   ]
  },
  {
   "cell_type": "code",
   "execution_count": null,
   "metadata": {},
   "outputs": [],
   "source": [
    "def plot(mesh, X, Z, K, title):\n",
    "    K = K.copy()\n",
    "    K[K == 0] = K[K > 0].min()\n",
    "\n",
    "    plt.figure(figsize=(16, 9))\n",
    "    plt.contour(X, Z, np.log10(K), levels=np.arange(-5, 1, .5), colors='black')\n",
    "    plt.pcolor(X, Z, K, norm=LogNorm(vmin=5e-7, vmax=5))\n",
    "\n",
    "    plt.title(title, fontweight='bold')\n",
    "    plt.colorbar().set_label('K ($Re\\sqrt{G}$)')\n",
    "    plt.xlabel('X SM (Re)')\n",
    "    plt.ylabel('Z SM (Re)')\n",
    "    plt.xlim(7.5, -7.5)\n",
    "    plt.ylim(-6, 6)\n",
    "    plt.grid(True, color='#ccc', linestyle='dashed')\n",
    "\n",
    "    circ = plt.Circle((0, 0), 1, color='#4470AD')\n",
    "    plt.gca().add_patch(circ)\n",
    "\n",
    "    for r in np.arange(3, 8):\n",
    "        for th in [0, 180]:\n",
    "            x, y = np.cos(np.deg2rad(th)) * r, np.sin(np.deg2rad(th)) * r\n",
    "            try:\n",
    "                res = invariants.calculate_K(mesh, (x, y, 0), 7.5)\n",
    "            except invariants.FieldLineTraceReturnedEmpty:\n",
    "                continue\n",
    "            plt.plot(res.trace_points[:, 0],\n",
    "                     res.trace_points[:, 2],\n",
    "                     color='k')"
   ]
  },
  {
   "cell_type": "code",
   "execution_count": null,
   "metadata": {},
   "outputs": [],
   "source": [
    "lfm_path = '/glade/u/home/danieldas/scratch//data/LFM-20131002_RBSP/ElkStorm_mhd_2013-10-02T07-30-00Z.hdf'\n",
    "lfmrcm_path = '/glade/u/home/danieldas/scratch//data/LFMRCM-20131002_RBSP/ElkStorm-LR_mhd_2013-10-02T07-30-00Z.hdf'\n",
    "\n",
    "!ls $lfm_path\n",
    "!ls $lfmrcm_path"
   ]
  },
  {
   "cell_type": "code",
   "execution_count": null,
   "metadata": {},
   "outputs": [],
   "source": [
    "importlib.reload(invariants)\n",
    "\n",
    "lfm_mesh = meshes.get_lfm_hdf4_data(lfm_path)\n",
    "lfm_results = process(lfm_mesh)"
   ]
  },
  {
   "cell_type": "code",
   "execution_count": null,
   "metadata": {},
   "outputs": [],
   "source": [
    "plot(lfm_mesh, *lfm_results, 'LFM During Recovery Phase')"
   ]
  },
  {
   "cell_type": "code",
   "execution_count": null,
   "metadata": {
    "tags": []
   },
   "outputs": [],
   "source": [
    "importlib.reload(invariants)\n",
    "\n",
    "lfmrcm_mesh = meshes.get_lfm_hdf4_data(lfmrcm_path)\n",
    "lfmrcm_results = process(lfmrcm_mesh)"
   ]
  },
  {
   "cell_type": "code",
   "execution_count": null,
   "metadata": {},
   "outputs": [],
   "source": [
    "plot(lfmrcm_mesh, *lfmrcm_results, 'LFM-RCM During Recovery Phase')"
   ]
  },
  {
   "cell_type": "code",
   "execution_count": null,
   "metadata": {},
   "outputs": [],
   "source": [
    "Vsw = 591.5 \n",
    "dist_L1_earth = 1467000 #https://www.johndcook.com/blog/2021/12/28/lagrange-points-l1-and-l2/\n",
    "delay_sec = dist_L1_earth / Vsw\n",
    "delay_sec/60\n",
    "time = datetime(2013, 10, 2, 7, 30) + timedelta(seconds=delay_sec)"
   ]
  },
  {
   "cell_type": "code",
   "execution_count": null,
   "metadata": {
    "tags": []
   },
   "outputs": [],
   "source": [
    "t96_mesh = meshes.get_tsyganenko_on_lfm_grid_with_auto_params(\n",
    "    'T96', time, lfm_path, tell_params=True, force_zero_tilt=False,\n",
    ")"
   ]
  },
  {
   "cell_type": "code",
   "execution_count": null,
   "metadata": {
    "tags": []
   },
   "outputs": [],
   "source": [
    "t04_mesh = meshes.get_tsyganenko_on_lfm_grid_with_auto_params(\n",
    "    'T04', time, lfm_path, tell_params=True, force_zero_tilt=False,\n",
    ")"
   ]
  },
  {
   "cell_type": "code",
   "execution_count": null,
   "metadata": {
    "tags": []
   },
   "outputs": [],
   "source": [
    "t96_results = process(t96_mesh)"
   ]
  },
  {
   "cell_type": "code",
   "execution_count": null,
   "metadata": {
    "tags": []
   },
   "outputs": [],
   "source": [
    "t04_results = process(t04_mesh)"
   ]
  },
  {
   "cell_type": "code",
   "execution_count": null,
   "metadata": {},
   "outputs": [],
   "source": [
    "plot(t96_mesh, *t96_results, 'T96 During Recovery Phase')"
   ]
  },
  {
   "cell_type": "code",
   "execution_count": null,
   "metadata": {},
   "outputs": [],
   "source": [
    "plot(t04_mesh, *t04_results, 'T05 During Recovery Phase')"
   ]
  },
  {
   "cell_type": "code",
   "execution_count": null,
   "metadata": {},
   "outputs": [],
   "source": []
  }
 ],
 "metadata": {
  "kernelspec": {
   "display_name": "Python [conda env:anaconda3-dasilva-invariants]",
   "language": "python",
   "name": "conda-env-anaconda3-dasilva-invariants-py"
  },
  "language_info": {
   "codemirror_mode": {
    "name": "ipython",
    "version": 3
   },
   "file_extension": ".py",
   "mimetype": "text/x-python",
   "name": "python",
   "nbconvert_exporter": "python",
   "pygments_lexer": "ipython3",
   "version": "3.10.4"
  }
 },
 "nbformat": 4,
 "nbformat_minor": 4
}
