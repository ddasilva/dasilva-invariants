{
 "cells": [
  {
   "cell_type": "code",
   "execution_count": null,
   "id": "85b5534e-dea9-42c5-9bb2-ddc08731d07a",
   "metadata": {},
   "outputs": [],
   "source": [
    "from dasilva_invariants import diagnostics, meshes, invariants\n",
    "import pylab as plt\n",
    "import seaborn as sns\n",
    "import numpy as np"
   ]
  },
  {
   "cell_type": "code",
   "execution_count": null,
   "id": "e75d7681-fa66-49c4-9de6-e96b8b1589c4",
   "metadata": {},
   "outputs": [],
   "source": [
    "sns.set_style('darkgrid')\n",
    "\n",
    "SMALL_SIZE = 16\n",
    "MEDIUM_SIZE = 18\n",
    "BIGGER_SIZE = 22\n",
    "DPI = 500\n",
    "\n",
    "plt.rc('font', size=SMALL_SIZE)          # controls default text sizes\n",
    "plt.rc('axes', titlesize=SMALL_SIZE)     # fontsize of the axes title\n",
    "plt.rc('axes', labelsize=MEDIUM_SIZE)    # fontsize of the x and y labels\n",
    "plt.rc('xtick', labelsize=SMALL_SIZE)    # fontsize of the tick labels\n",
    "plt.rc('ytick', labelsize=SMALL_SIZE)    # fontsize of the tick labels\n",
    "plt.rc('legend', fontsize=SMALL_SIZE)    # legend fontsize\n",
    "plt.rc('figure', titlesize=BIGGER_SIZE)  # fontsize of the figure title"
   ]
  },
  {
   "cell_type": "code",
   "execution_count": null,
   "id": "5b092df5-8b2c-4ba6-ba60-59ef2023b659",
   "metadata": {},
   "outputs": [],
   "source": [
    "mesh = meshes.get_lfm_hdf4_data('../../data/LFMRCM-20131002_RBSP/ElkStorm-LR_mhd_2013-10-01T23-10-00Z.hdf')"
   ]
  },
  {
   "cell_type": "code",
   "execution_count": null,
   "id": "1401bddd-02d0-4af0-bfc1-eac794a4ddf0",
   "metadata": {},
   "outputs": [],
   "source": [
    "r_min, r_max = 6, 6\n",
    "th = 0\n",
    "\n",
    "plt.figure(figsize=(16, 10), dpi=DPI)\n",
    "rs = np.arange(r_min, r_max + 1)\n",
    "cmap = plt.get_cmap('viridis')\n",
    "\n",
    "for i, r in enumerate(rs):\n",
    "    x, y = np.cos(np.deg2rad(th)) * r, np.sin(np.deg2rad(th)) * r\n",
    "    result = invariants.calculate_K(mesh, (x, y, 0), 7.5, step_size=None)\n",
    "\n",
    "    plt.plot(np.rad2deg(result.trace_latitude), result.trace_field_strength, ',-',\n",
    "             label=r'$\\vec{r}=(' + ('%d'%r) + ', 0, 0)$', color='k')\n",
    "\n",
    "plt.xlabel('Magnetic Latitude (degrees)')\n",
    "plt.ylabel('|B| (Gauss)')\n",
    "plt.title('Dayside Magnetic Field Line Trace from LFM (Quiet-time), Distance of 6 $R_E$', fontweight='bold')\n",
    "#plt.yscale('log')\n",
    "plt.grid(color='#ccc', linestyle='dashed')"
   ]
  },
  {
   "cell_type": "code",
   "execution_count": null,
   "id": "3d72318c-7870-47fc-adf8-ad66cfa183e1",
   "metadata": {},
   "outputs": [],
   "source": [
    "r_min, r_max = 10.5, 10.5\n",
    "th = 0\n",
    "\n",
    "plt.figure(figsize=(16, 10), dpi=DPI)\n",
    "rs = np.arange(r_min, r_max + 1)\n",
    "cmap = plt.get_cmap('viridis')\n",
    "\n",
    "for i, r in enumerate(rs):\n",
    "    x, y = np.cos(np.deg2rad(th)) * r, np.sin(np.deg2rad(th)) * r\n",
    "    result = invariants.calculate_K(mesh, (x, y, 0), 7.5, step_size=None)\n",
    "\n",
    "    plt.plot(np.rad2deg(result.trace_latitude), result.trace_field_strength, ',-',\n",
    "             label=r'$\\vec{r}=(' + ('%d' % r) + ', 0, 0)$', color='k')\n",
    "\n",
    "plt.xlabel('Magnetic Latitude (degrees)')\n",
    "plt.ylabel('|B| (Gauss)')\n",
    "plt.title('Dayside Magnetic Field Line Trace from LFM (Quiet-time), Distance of 10.25 $R_E$', fontweight='bold')\n",
    "plt.yscale('log')\n",
    "plt.grid(color='#ccc', linestyle='dashed')"
   ]
  },
  {
   "cell_type": "code",
   "execution_count": null,
   "id": "c45c17c2-86bb-4477-9eaa-cceaabd16133",
   "metadata": {},
   "outputs": [],
   "source": []
  }
 ],
 "metadata": {
  "kernelspec": {
   "display_name": "Python [conda env:anaconda3-dasilva-invariants]",
   "language": "python",
   "name": "conda-env-anaconda3-dasilva-invariants-py"
  },
  "language_info": {
   "codemirror_mode": {
    "name": "ipython",
    "version": 3
   },
   "file_extension": ".py",
   "mimetype": "text/x-python",
   "name": "python",
   "nbconvert_exporter": "python",
   "pygments_lexer": "ipython3",
   "version": "3.10.4"
  }
 },
 "nbformat": 4,
 "nbformat_minor": 5
}
