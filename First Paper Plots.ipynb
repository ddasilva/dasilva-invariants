{
 "cells": [
  {
   "cell_type": "code",
   "execution_count": null,
   "id": "85b5534e-dea9-42c5-9bb2-ddc08731d07a",
   "metadata": {},
   "outputs": [],
   "source": [
    "import sys\n",
    "from datetime import datetime, timedelta\n",
    "import matplotlib.image as mpimg\n",
    "from matplotlib.offsetbox import OffsetImage, AnnotationBbox\n",
    "\n",
    "sys.path.append('/glade/u/home/danieldas/scratch/phd_stuff/daSilvaInvariants')\n",
    "import numpy as np\n",
    "import pylab as plt\n",
    "import seaborn as sns\n",
    "from astropy import units\n",
    "from dasilva_invariants import diagnostics, invariants, meshes\n"
   ]
  },
  {
   "cell_type": "code",
   "execution_count": null,
   "id": "e75d7681-fa66-49c4-9de6-e96b8b1589c4",
   "metadata": {},
   "outputs": [],
   "source": [
    "sns.set_style('darkgrid')\n",
    "\n",
    "SMALL_SIZE = 16\n",
    "MEDIUM_SIZE = 18\n",
    "BIGGER_SIZE = 22\n",
    "DPI = 500\n",
    "\n",
    "plt.rc('font', size=SMALL_SIZE)          # controls default text sizes\n",
    "plt.rc('axes', titlesize=SMALL_SIZE)     # fontsize of the axes title\n",
    "plt.rc('axes', labelsize=MEDIUM_SIZE)    # fontsize of the x and y labels\n",
    "plt.rc('xtick', labelsize=SMALL_SIZE)    # fontsize of the tick labels\n",
    "plt.rc('ytick', labelsize=SMALL_SIZE)    # fontsize of the tick labels\n",
    "plt.rc('legend', fontsize=SMALL_SIZE)    # legend fontsize\n",
    "plt.rc('figure', titlesize=BIGGER_SIZE)  # fontsize of the figure title"
   ]
  },
  {
   "cell_type": "code",
   "execution_count": null,
   "id": "5b092df5-8b2c-4ba6-ba60-59ef2023b659",
   "metadata": {},
   "outputs": [],
   "source": [
    "#mesh = meshes.get_lfm_hdf4_data('../../data/LFMRCM-20131002_RBSP/ElkStorm-LR_mhd_2013-10-01T23-10-00Z.hdf')\n",
    "mesh = meshes.get_lfm_hdf4_data('/glade/u/home/danieldas/scratch//data/LFM-20131002_RBSP/ElkStorm_mhd_2013-10-04T00-00-00Z.hdf')"
   ]
  },
  {
   "cell_type": "code",
   "execution_count": null,
   "id": "1401bddd-02d0-4af0-bfc1-eac794a4ddf0",
   "metadata": {},
   "outputs": [],
   "source": [
    "r_min, r_max = 5, 13\n",
    "th = 0\n",
    "\n",
    "plt.figure(figsize=(16, 10), dpi=DPI)\n",
    "rs = np.arange(r_min, r_max + 1)\n",
    "cmap = plt.get_cmap('viridis')\n",
    "\n",
    "for i, r in enumerate(rs):\n",
    "    x, y = np.cos(np.deg2rad(th)) * r, np.sin(np.deg2rad(th)) * r\n",
    "    result = invariants.calculate_K(mesh, (x, y, 0), 7.5, step_size=None)\n",
    "\n",
    "    plt.plot(np.rad2deg(result.trace_latitude), result.trace_field_strength, ',-',\n",
    "             label=r'$\\vec{r}=(' + ('%d'%r) + ', 0, 0)$', color='k')\n",
    "\n",
    "plt.xlabel('Magnetic Latitude (degrees)')\n",
    "plt.ylabel('|B| (Gauss)')\n",
    "plt.title('Dayside Magnetic Field Line Trace from LFM', fontweight='bold')\n",
    "plt.yscale('log')\n",
    "plt.grid(color='#ccc', linestyle='dashed')\n",
    "plt.legend()"
   ]
  },
  {
   "cell_type": "code",
   "execution_count": null,
   "id": "3d72318c-7870-47fc-adf8-ad66cfa183e1",
   "metadata": {},
   "outputs": [],
   "source": [
    "r_min, r_max = 10.5, 10.5\n",
    "th = 0\n",
    "\n",
    "plt.figure(figsize=(16, 10), dpi=DPI)\n",
    "rs = np.arange(r_min, r_max + 1)\n",
    "cmap = plt.get_cmap('viridis')\n",
    "\n",
    "for i, r in enumerate(rs):\n",
    "    x, y = np.cos(np.deg2rad(th)) * r, np.sin(np.deg2rad(th)) * r\n",
    "    result = invariants.calculate_K(mesh, (x, y, 0), 7.5, step_size=None)\n",
    "\n",
    "    plt.plot(np.rad2deg(result.trace_latitude), result.trace_field_strength, ',-',\n",
    "             label=r'$\\vec{r}=(' + ('%d' % r) + ', 0, 0)$', color='k')\n",
    "\n",
    "plt.xlabel('Magnetic Latitude (degrees)')\n",
    "plt.ylabel('|B| (Gauss)')\n",
    "plt.title('Dayside Magnetic Field Line Trace from LFM (Quiet-time), Distance of 10.25 $R_E$', fontweight='bold')\n",
    "plt.yscale('log')\n",
    "plt.grid(color='#ccc', linestyle='dashed')"
   ]
  },
  {
   "cell_type": "code",
   "execution_count": null,
   "id": "59e31780-8d56-4b33-b3d3-c4f78b9a902b",
   "metadata": {},
   "outputs": [],
   "source": [
    "def add_earth(ax):\n",
    "    earth = plt.Circle((0, 0), 1, color='#4470AD')\n",
    "    ax.add_patch(earth)\n"
   ]
  },
  {
   "cell_type": "code",
   "execution_count": null,
   "id": "de296593-2cca-4f67-a2b0-971d946d879b",
   "metadata": {},
   "outputs": [],
   "source": [
    "import importlib\n",
    "importlib.reload(diagnostics)\n",
    "\n",
    "#kwargs = dict(xlim=(10, -10), ylim=(-7.5, 7.5), cbar_label=r'External Field Current Density $\\rm{(nA/m^2)}$')\n",
    "kwargs = dict(xlim=(13, -13), ylim=(-9, 9), cbar_label=r'External Field Current Density $\\rm{(nA/m^2)}$')"
   ]
  },
  {
   "cell_type": "code",
   "execution_count": null,
   "id": "ed6bc01e-d7e6-43e9-a070-dbee84463bda",
   "metadata": {},
   "outputs": [],
   "source": [
    "kwargs"
   ]
  },
  {
   "cell_type": "code",
   "execution_count": null,
   "id": "1b4421c0-5e6a-4cca-bd13-33ad26396245",
   "metadata": {},
   "outputs": [],
   "source": [
    "import glob\n",
    "files = sorted(glob.glob('/glade/u/home/danieldas/scratch/data/LFM-20131002_RBSP/*mhd*.hdf'))\n",
    "files[1000]"
   ]
  },
  {
   "cell_type": "code",
   "execution_count": null,
   "id": "4753887c-29af-4185-bb28-f23173c918c4",
   "metadata": {},
   "outputs": [],
   "source": [
    "Vsw = 591.5 \n",
    "dist_L1_earth = 1467000 #https://www.johndcook.com/blog/2021/12/28/lagrange-points-l1-and-l2/\n",
    "delay_sec = dist_L1_earth / Vsw\n",
    "delay_sec/60"
   ]
  },
  {
   "cell_type": "code",
   "execution_count": null,
   "id": "e227db98-70c5-4f1f-8ded-09fb1f1fd0a8",
   "metadata": {},
   "outputs": [],
   "source": [
    "#lfm_path = files[1000]\n",
    "#time = datetime(2013, 10, 2, 7, 30) + timedelta(seconds=delay_sec)\n",
    "\n",
    "lfm_path = '/glade/u/home/danieldas/scratch//data/LFM-20131002_RBSP/ElkStorm_mhd_2013-10-02T06-19-00Z.hdf'\n",
    "time = datetime(2013, 10, 2, 6, 19)"
   ]
  },
  {
   "cell_type": "code",
   "execution_count": null,
   "id": "2f9d8fa3-c58f-4807-bb3c-8491ec06ddf4",
   "metadata": {},
   "outputs": [],
   "source": [
    "import importlib\n",
    "from dasilva_invariants import utils\n",
    "importlib.reload(meshes)\n",
    "importlib.reload(diagnostics)\n",
    "importlib.reload(utils)"
   ]
  },
  {
   "cell_type": "code",
   "execution_count": null,
   "id": "63cd9af2-ced4-40c2-a709-e34317e76f25",
   "metadata": {},
   "outputs": [],
   "source": [
    "mesh_lfm = meshes.get_lfm_hdf4_data(lfm_path)\n",
    "mesh_dip = meshes.get_dipole_mesh_on_lfm_grid(lfm_path)\n",
    "mesh_sub = mesh_lfm.copy()\n",
    "mesh_sub['B'] -= mesh_dip['B']\n",
    "ax = diagnostics.meridional_plot_of_current(mesh_sub, 'LFM During Dst Minimum', **kwargs)\n",
    "diagnostics.add_field_line_traces_meridional_plot(ax, mesh_lfm, color='white')\n",
    "add_earth(ax)"
   ]
  },
  {
   "cell_type": "code",
   "execution_count": null,
   "id": "b0480710-59ef-48b1-ab56-715410345477",
   "metadata": {},
   "outputs": [],
   "source": [
    "lfmrcm_path = lfm_path.replace('LFM', 'LFMRCM').replace('ElkStorm', 'ElkStorm-LR')\n",
    "print(lfmrcm_path)\n",
    "mesh_lfm = meshes.get_lfm_hdf4_data(lfmrcm_path)\n",
    "\n",
    "mesh_dip = meshes.get_dipole_mesh_on_lfm_grid(lfmrcm_path)\n",
    "mesh_sub = mesh_lfm.copy()\n",
    "mesh_sub['B'] -= mesh_dip['B']\n",
    "\n",
    "ax = diagnostics.meridional_plot_of_current(mesh_sub, 'LFM-RCM During Dst Minimum', **kwargs)\n",
    "diagnostics.add_field_line_traces_meridional_plot(ax, mesh_lfm, color='white')\n",
    "add_earth(ax)"
   ]
  },
  {
   "cell_type": "code",
   "execution_count": null,
   "id": "49da0d68-067f-43f0-a976-3d8acc8e9fe2",
   "metadata": {
    "tags": []
   },
   "outputs": [],
   "source": [
    "print('Getting T96')\n",
    "mesh_t96 = meshes.get_tsyganenko_on_lfm_grid_with_auto_params(\n",
    "    'T96', time, lfm_path, tell_params=True, external_field_only=True,\n",
    "    force_zero_tilt=True,\n",
    "    path='/glade/u/home/danieldas/scratch/data/WGhour-latest.d.zip'\n",
    ")"
   ]
  },
  {
   "cell_type": "code",
   "execution_count": null,
   "id": "821dc33a-5625-42a2-992f-b464c0ca3ee4",
   "metadata": {},
   "outputs": [],
   "source": [
    "mesh_dip = meshes.get_dipole_mesh_on_lfm_grid(lfm_path)\n",
    "mesh_total = mesh_dip.copy()\n",
    "mesh_total['B'] += mesh_t96['B']\n",
    "ax = diagnostics.meridional_plot_of_current(mesh_t96, 'T96 During Dst Minimum', **kwargs)\n",
    "diagnostics.add_field_line_traces_meridional_plot(ax, mesh_total, color='white')\n",
    "add_earth(ax)"
   ]
  },
  {
   "cell_type": "code",
   "execution_count": null,
   "id": "28274cc9-f4d0-4343-9887-8533f3e5d1f2",
   "metadata": {
    "tags": []
   },
   "outputs": [],
   "source": [
    "print('Getting T04')\n",
    "mesh_t04 = meshes.get_tsyganenko_on_lfm_grid_with_auto_params(\n",
    "    'T04', time, lfm_path, tell_params=True, external_field_only=True,\n",
    "    force_zero_tilt=True,\n",
    "    path='/glade/u/home/danieldas/scratch/data/WGhour-latest.d.zip'\n",
    ")"
   ]
  },
  {
   "cell_type": "code",
   "execution_count": null,
   "id": "c86223ab-9bd1-48ee-9c9a-ed466f052e72",
   "metadata": {},
   "outputs": [],
   "source": [
    "mesh_dip = meshes.get_dipole_mesh_on_lfm_grid(lfm_path)\n",
    "mesh_total = mesh_dip.copy()\n",
    "mesh_total['B'] += mesh_t04['B']\n",
    "ax = diagnostics.meridional_plot_of_current(mesh_t96, 'TS05 During Dst Minimum', **kwargs)\n",
    "diagnostics.add_field_line_traces_meridional_plot(ax, mesh_total, color='white')\n",
    "add_earth(ax)"
   ]
  },
  {
   "cell_type": "code",
   "execution_count": null,
   "id": "27a46855-241f-4d52-b5ca-e902ce5aceb6",
   "metadata": {},
   "outputs": [],
   "source": []
  },
  {
   "cell_type": "code",
   "execution_count": null,
   "id": "ad8ff5e5-7fbd-4c42-b598-51a41d4997c8",
   "metadata": {},
   "outputs": [],
   "source": []
  }
 ],
 "metadata": {
  "kernelspec": {
   "display_name": "Python [conda env:anaconda3-dasilva-invariants]",
   "language": "python",
   "name": "conda-env-anaconda3-dasilva-invariants-py"
  },
  "language_info": {
   "codemirror_mode": {
    "name": "ipython",
    "version": 3
   },
   "file_extension": ".py",
   "mimetype": "text/x-python",
   "name": "python",
   "nbconvert_exporter": "python",
   "pygments_lexer": "ipython3",
   "version": "3.10.4"
  }
 },
 "nbformat": 4,
 "nbformat_minor": 5
}
