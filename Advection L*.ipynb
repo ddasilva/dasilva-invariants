{
 "cells": [
  {
   "cell_type": "code",
   "execution_count": null,
   "id": "fc0a233e-c96d-4486-a42a-8268d1a661dc",
   "metadata": {},
   "outputs": [],
   "source": [
    "import pylab as plt\n",
    "import pandas as pd\n",
    "import glob\n",
    "import numpy as np\n",
    "import progressbar\n",
    "from scipy import interpolate"
   ]
  },
  {
   "cell_type": "code",
   "execution_count": null,
   "id": "9682e535-a9cf-43bd-a177-290a575e3cce",
   "metadata": {},
   "outputs": [],
   "source": [
    "files = sorted(glob.glob('/glade/scratch/danieldas/data/Advection/daSilva*'))\n",
    "files"
   ]
  },
  {
   "cell_type": "code",
   "execution_count": null,
   "id": "8fe019ea-e9b9-4116-9d9e-70cb984e2ff8",
   "metadata": {},
   "outputs": [],
   "source": [
    "particles = {}\n",
    "\n",
    "for file in files:\n",
    "    df = pd.read_csv(file, sep=r'\\s+', names=['particle_num', 'time', 'radial_dist', 'az_loc', 'energy', 'drift_vel', 'initial_radial_loc', 'initial_az_loc', 'initial_energy', 'first_invariant'])\n",
    "    bar = progressbar.ProgressBar()\n",
    "\n",
    "    for _, row in bar(list(df.iterrows())):\n",
    "        t = int(row.time)\n",
    "\n",
    "        if t not in particles:\n",
    "            particles[t] = []\n",
    "\n",
    "        particles[t].append(row.radial_dist)"
   ]
  },
  {
   "cell_type": "code",
   "execution_count": null,
   "id": "f8ef2dac-61bb-4875-9da7-cdf448c075ef",
   "metadata": {},
   "outputs": [],
   "source": [
    "old_particles = {}\n",
    "fh = open('/glade/scratch/danieldas/data/Advection/traj.LFM-20150317.20210917-174345.200MeVG.lowpass.dat')\n",
    "\n",
    "for line in fh:\n",
    "    toks = line.strip().split()\n",
    "    t = int(float(toks[1]))\n",
    "\n",
    "    if t not in particles:\n",
    "        continue\n",
    "\n",
    "    radial_dist = float(toks[2])\n",
    "\n",
    "    if t not in old_particles:\n",
    "        old_particles[t] = []\n",
    "\n",
    "    old_particles[t].append(radial_dist)"
   ]
  },
  {
   "cell_type": "code",
   "execution_count": null,
   "id": "a55f2696-1451-41c8-867f-a64429fad96d",
   "metadata": {},
   "outputs": [],
   "source": [
    "bins = np.arange(3, 10, .25)\n",
    "cmap = plt.get_cmap('viridis')\n",
    "\n",
    "plt.figure(figsize=(18, 4))\n",
    "\n",
    "for t in sorted(particles.keys()):\n",
    "    data = np.array(particles[t])\n",
    "    H, B = np.histogram(data, bins=bins)\n",
    "    plt.plot(B[:-1] + np.diff(B)/2, H, label=f't={int(t/60):d} min', color=cmap(t/np.max(list(particles.keys()))))\n",
    "\n",
    "plt.legend()\n",
    "plt.ylabel('Bin Count', fontsize=18)\n",
    "plt.xlabel('L* ($R_E$)', fontsize=18)\n",
    "plt.grid(color='#ccc', linestyle='dashed')\n",
    "plt.title('L*\\'s for traj.LFM-20150317.20210917-174345.200MeVG.lowpass.dat', fontsize=20, fontweight='bold')"
   ]
  },
  {
   "cell_type": "code",
   "execution_count": null,
   "id": "1aa906ba-5afe-4414-a385-75078a42d072",
   "metadata": {},
   "outputs": [],
   "source": [
    "bins = np.arange(3, 10, .25)\n",
    "cmap = plt.get_cmap('viridis')\n",
    "\n",
    "plt.figure(figsize=(18, 4))\n",
    "\n",
    "for t in sorted(particles.keys()):\n",
    "    data = np.array(old_particles[t])\n",
    "    H, B = np.histogram(data, bins=bins)\n",
    "    plt.plot(B[:-1] + np.diff(B)/2, H, label=f't={int(t/60):d} min', color=cmap(t/np.max(list(particles.keys()))))\n",
    "\n",
    "plt.legend()\n",
    "plt.ylabel('Bin Count', fontsize=18)\n",
    "plt.xlabel('Radial Distance ($R_E$)', fontsize=18)\n",
    "plt.grid(color='#ccc', linestyle='dashed')\n",
    "plt.title('Radial Distances for traj.LFM-20150317.20210917-174345.200MeVG.lowpass.dat', fontsize=20, fontweight='bold')"
   ]
  },
  {
   "cell_type": "code",
   "execution_count": null,
   "id": "a7b06606-e3f8-4f37-853c-60ef73977a0d",
   "metadata": {},
   "outputs": [],
   "source": [
    "def plot_interp_spect(part_dict, label, title):\n",
    "    trange = np.arange(1800, dtype=float)\n",
    "    bins = np.arange(3, 10, .25)\n",
    "    bin_centers = bins[:-1] + np.diff(bins)/2\n",
    "    def interp_histogram():\n",
    "        spect = []\n",
    "\n",
    "        native_times = set()\n",
    "\n",
    "        for i, t in enumerate(sorted(part_dict.keys())):\n",
    "            data = np.array(part_dict[t])\n",
    "            H, B = np.histogram(data, bins=bins)\n",
    "            spect.append(H)\n",
    "            native_times.add(t)\n",
    "\n",
    "        native_times = sorted(native_times)\n",
    "\n",
    "        spect = np.array(spect)\n",
    "\n",
    "        spect_interp = []\n",
    "\n",
    "        for j in range(spect.shape[1]):\n",
    "            spline = interpolate.CubicSpline(native_times, spect[:, j])\n",
    "            spect_interp.append(spline(trange))\n",
    "        spect_interp = np.array(spect_interp)\n",
    "\n",
    "        return spect_interp\n",
    "\n",
    "    plt.figure(figsize=(22, 4))\n",
    "\n",
    "    spect_interp = interp_histogram()\n",
    "    plt.pcolor(trange/60, bin_centers, spect_interp)\n",
    "    plt.colorbar().set_label('Bin Count',  fontsize=18)\n",
    "    plt.ylabel(label, fontsize=18)\n",
    "    plt.xlabel('Time (min)',  fontsize=18)\n",
    "    plt.title(title, fontsize=20, fontweight='bold')"
   ]
  },
  {
   "cell_type": "code",
   "execution_count": null,
   "id": "18382cfa-d2af-4180-9424-9ebc1d8685c5",
   "metadata": {},
   "outputs": [],
   "source": [
    "plot_interp_spect(particles, 'L* ($R_E$)', 'L*\\'s for traj.LFM-20150317.20210917-174345.200MeVG.lowpass.dat')"
   ]
  },
  {
   "cell_type": "code",
   "execution_count": null,
   "id": "2fb8828f-610e-4e5a-865c-6b40585bc82b",
   "metadata": {},
   "outputs": [],
   "source": [
    "plot_interp_spect(old_particles, 'Radial Distances ($R_E$)', 'Radial Distances for traj.LFM-20150317.20210917-174345.200MeVG.lowpass.dat')"
   ]
  }
 ],
 "metadata": {
  "kernelspec": {
   "display_name": "Python [conda env:anaconda3-dasilva-invariants]",
   "language": "python",
   "name": "conda-env-anaconda3-dasilva-invariants-py"
  },
  "language_info": {
   "codemirror_mode": {
    "name": "ipython",
    "version": 3
   },
   "file_extension": ".py",
   "mimetype": "text/x-python",
   "name": "python",
   "nbconvert_exporter": "python",
   "pygments_lexer": "ipython3",
   "version": "3.10.4"
  }
 },
 "nbformat": 4,
 "nbformat_minor": 5
}
